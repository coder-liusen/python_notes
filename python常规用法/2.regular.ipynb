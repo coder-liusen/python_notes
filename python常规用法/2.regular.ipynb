{
 "cells": [
  {
   "cell_type": "markdown",
   "metadata": {},
   "source": [
    "正则表达式是一种提供字符串匹配功能的规则。其使用方法是：用户给定一个“匹配模式”的字符串，然后用该匹配模式对一个待匹配的字符串进行匹配。"
   ]
  },
  {
   "cell_type": "markdown",
   "metadata": {},
   "source": [
    "### re库"
   ]
  },
  {
   "cell_type": "code",
   "execution_count": 1,
   "metadata": {},
   "outputs": [],
   "source": [
    "# python提供re库支持正则表达式：\n",
    "import re"
   ]
  },
  {
   "cell_type": "markdown",
   "metadata": {},
   "source": [
    "注意，python中使用正则表达式，应在式前使用r防转义，因为\\在正则表达式中具有特殊含义，正则表达式的部分匹配规则需要借助\\给出。"
   ]
  },
  {
   "cell_type": "code",
   "execution_count": 2,
   "metadata": {},
   "outputs": [],
   "source": [
    "# (1) 匹配方法：match()、search()、findall()\n",
    "# match()：尝试从字符串的起始位置匹配一个模式，如果匹配成功，返回一个match对象，否则返回None。\n",
    "# 原型：re.match(r'正则表达式'，str1)\n",
    "# search()：尝试在整个字符串中匹配模式，并返回第一个成功的匹配。\n",
    "# 原型：re.search(r'正则表达式'，str1)\n",
    "# findall()：在字符串中匹配模式，并返回所有的成功的匹配（以列表的形式）。\n",
    "# 原型：re.findall(r'正则表达式'，str1)\n"
   ]
  },
  {
   "cell_type": "markdown",
   "metadata": {},
   "source": [
    "注意，match()函数和search()函数只匹配一次，findall()则是匹配所有。"
   ]
  },
  {
   "cell_type": "code",
   "execution_count": null,
   "metadata": {},
   "outputs": [],
   "source": [
    "# (2) 切分字符串：split()"
   ]
  }
 ],
 "metadata": {
  "kernelspec": {
   "display_name": "Python 3",
   "language": "python",
   "name": "python3"
  },
  "language_info": {
   "codemirror_mode": {
    "name": "ipython",
    "version": 3
   },
   "file_extension": ".py",
   "mimetype": "text/x-python",
   "name": "python",
   "nbconvert_exporter": "python",
   "pygments_lexer": "ipython3",
   "version": "3.8.3"
  },
  "toc": {
   "base_numbering": 1,
   "nav_menu": {},
   "number_sections": true,
   "sideBar": true,
   "skip_h1_title": false,
   "title_cell": "Table of Contents",
   "title_sidebar": "Contents",
   "toc_cell": false,
   "toc_position": {},
   "toc_section_display": true,
   "toc_window_display": false
  }
 },
 "nbformat": 4,
 "nbformat_minor": 4
}
