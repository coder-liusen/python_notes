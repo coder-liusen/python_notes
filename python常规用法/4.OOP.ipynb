{
 "cells": [
  {
   "cell_type": "markdown",
   "metadata": {},
   "source": [
    "python是动态语言，C++是静态语言。  \n",
    "动态语言支持动态定义和修改类（增加和修改属性与方法）、动态定义和修改对象（增加和修改属性与方法）。也就是说，动态语言在定义一个类后，还可以给该类绑定新的属性和方法；在创建一个类的实例以后，也还可以给该实例绑定新的属性和方法。  \n",
    "注意在C++中，当创建完类后，可以修改其属性，但无法增加属性，也无法修改其方法；并且在C++中，对象也是可以被修改属性的，但是也无法增加属性（其属性必须跟所属的类一样），也无法修改方法。  "
   ]
  },
  {
   "cell_type": "markdown",
   "metadata": {},
   "source": [
    "### 声明类和创建实例 "
   ]
  },
  {
   "cell_type": "code",
   "execution_count": null,
   "metadata": {},
   "outputs": [],
   "source": [
    "# (1) 声明类\n",
    "class Student(object):\n",
    "    pass\n",
    "# 注意，声明类时有一个参数，表示继承自哪个类，通常，如果没有合适的继承类，就使用object类，这是所有类最终都会继承的类。"
   ]
  },
  {
   "cell_type": "code",
   "execution_count": null,
   "metadata": {},
   "outputs": [],
   "source": [
    "# (2) 创建实例\n",
    "class Student(object):\n",
    "    pass\n",
    "bob = Student()"
   ]
  },
  {
   "cell_type": "code",
   "execution_count": null,
   "metadata": {},
   "outputs": [],
   "source": [
    "# (3) 绑定属性\n",
    "# 在创建类时，通过__init__方法，要求一些需要绑定的属性name、score等强制填写\n",
    "class Student(object):\n",
    "    \n",
    "    def __init__(self,name,score):\n",
    "        self.name = name\n",
    "        self.score = score\n",
    "# 此时，创建实例时是这样的：\n",
    "bob = Student('bob',100)"
   ]
  },
  {
   "cell_type": "code",
   "execution_count": null,
   "metadata": {},
   "outputs": [],
   "source": [
    "# (4) 调用实例\n",
    "print(bob.name)\n",
    "print(bob.score)"
   ]
  },
  {
   "cell_type": "code",
   "execution_count": null,
   "metadata": {},
   "outputs": [],
   "source": [
    "# (5) 定义类的“方法”（类的成员函数）\n",
    "# 类的成员函数与普通函数相比，第一个参数永远是实例变量self，并且调用时不传递该参数。（为什么要这样设定？）\n",
    "class Student(object):\n",
    "    \n",
    "    def __init__(self,name,score):\n",
    "        self.name = name\n",
    "        self.score = score\n",
    "    \n",
    "    def method1_add(self,a):\n",
    "        return a+self.score\n",
    "    \n",
    "    def method_str(self,s):\n",
    "        return s+self.name\n",
    "\n",
    "# 调用成员函数\n",
    "bob = Student('bob',100)\n",
    "print(bob.method1_add(30))\n",
    "print(bob.method_str('我是'))"
   ]
  },
  {
   "cell_type": "markdown",
   "metadata": {},
   "source": [
    "### 访问限制"
   ]
  },
  {
   "cell_type": "code",
   "execution_count": null,
   "metadata": {},
   "outputs": [],
   "source": [
    "# python中，可通过将类中的成员变量命名为以__开头的变量名，来声明一个私有变量，私有变量不能被外部直接访问。\n",
    "# 注意，以__开头并以__结尾的，是特殊变量，不是私有变量，可以被外部直接访问。\n",
    "# 成员方法的调用限制规则与成员变量类似\n",
    "class Student(object):\n",
    "    \n",
    "    def __init__(self,name,score):\n",
    "        self.name = name\n",
    "        self.score = score\n",
    "        self.sex = 'male'\n",
    "        self.__teacher = 'Susan'\n",
    "    \n",
    "    def method_add(self,a):\n",
    "        return a+self.score\n",
    "    \n",
    "    def __method_str(self,s):\n",
    "        return s+self.name\n",
    "\n",
    "# 调用成员函数\n",
    "bob = Student('bob',100)\n",
    "print(bob.sex) # 可以正确调用\n",
    "# print(bob.__teacher) # 不能正确调用\n",
    "print(bob.method_add(30)) # 可以正确调用\n",
    "# print(bob.__method_str('我是')) # 不能正确调用"
   ]
  },
  {
   "cell_type": "markdown",
   "metadata": {},
   "source": [
    "### 继承和多态"
   ]
  },
  {
   "cell_type": "code",
   "execution_count": null,
   "metadata": {},
   "outputs": [],
   "source": [
    "# (1) python支持多继承\n",
    "class Base1(object):\n",
    "    pass\n",
    "class Base2(object):\n",
    "    pass\n",
    "class Base3(object):\n",
    "    pass\n",
    "\n",
    "class Child(Base1,Base2,Base3):\n",
    "    pass"
   ]
  },
  {
   "cell_type": "markdown",
   "metadata": {},
   "source": [
    "### 获取对象的信息"
   ]
  },
  {
   "cell_type": "code",
   "execution_count": null,
   "metadata": {},
   "outputs": [],
   "source": [
    "# (1) 获取一个对象的“类型”：type() \n",
    "# type 可以对任意对象返回其类型，而由于python中一切皆对象，所以type可以用于python中的一切东西：常量、变量、自定义类的实例，函数、类等\n",
    "a = [2,'kk']\n",
    "print(type(a))\n",
    "print(type('hello'))\n",
    "print(type(3))\n",
    "print(type(None))\n",
    "\n",
    "# 对比两个变量的类型是否相同：\n",
    "print(type('abc')==type(123))\n",
    "\n",
    "# 判断一个对象的类型是否是某种具体的类型：使用types模块\n",
    "fn = lambda x:x**2\n",
    "import types\n",
    "print(type(fn) == types.FunctionType)\n",
    "\n",
    "# 判断一个对象的类型是否是某个具体类型的另一种方法：isinstance(obj,Type)\n",
    "print(isinstance(fn,types.FunctionType))\n",
    "\n",
    "# type和isinstance在判断对象类型是否是某个具体类型上的区别：\n",
    "# type不认为子类是父类的一种类型,isinstance认为子类是父类的一种类型（子类对象也属于父类类型）"
   ]
  },
  {
   "cell_type": "code",
   "execution_count": null,
   "metadata": {},
   "outputs": [],
   "source": [
    "# (2) 获取一个对象的所有属性和方法：dir()\n",
    "class Student(object):\n",
    "    \n",
    "    def __init__(self,name,score):\n",
    "        self.name = name\n",
    "        self.score = score\n",
    "        self.sex = 'male'\n",
    "        self.__teacher = 'Susan'\n",
    "    \n",
    "    def method_add(self,a):\n",
    "        return a+self.score\n",
    "    \n",
    "    def __method_str(self,s):\n",
    "        return s+self.name\n",
    "    \n",
    "bob = Student('bob',100)\n",
    "print(dir(bob))\n",
    "print(dir(3))"
   ]
  },
  {
   "cell_type": "code",
   "execution_count": null,
   "metadata": {},
   "outputs": [],
   "source": [
    "# (3) 判断一个对象是否有某个属性或方法：hasattr(obj, 'x')\n",
    "class Student(object):\n",
    "    \n",
    "    def __init__(self,name,score):\n",
    "        self.name = name\n",
    "        self.score = score\n",
    "        self.sex = 'male'\n",
    "        self.__teacher = 'Susan'\n",
    "    \n",
    "    def method_add(self,a):\n",
    "        return a+self.score\n",
    "    \n",
    "    def __method_str(self,s):\n",
    "        return s+self.name\n",
    "\n",
    "bob = Student('bob',100)\n",
    "print(hasattr(bob,'sex'))\n",
    "print(hasattr(bob,'__teacher'))\n",
    "print(hasattr(bob,'method_add'))\n",
    "print(hasattr(bob,'__method_str'))"
   ]
  },
  {
   "cell_type": "code",
   "execution_count": null,
   "metadata": {},
   "outputs": [],
   "source": [
    "# (4) 获取属性或方法：getattr(obj,'y')\n",
    "class Student(object):\n",
    "    \n",
    "    def __init__(self,name,score):\n",
    "        self.name = name\n",
    "        self.score = score\n",
    "        self.sex = 'male'\n",
    "        self.__teacher = 'Susan'\n",
    "    \n",
    "    def method_add(self,a):\n",
    "        return a+self.score\n",
    "    \n",
    "    def __method_str(self,s):\n",
    "        return s+self.name\n",
    "\n",
    "print(getattr(bob,'sex'))\n",
    "print(getattr(bob,'method_add'))\n",
    "# print(getattr(bob,'__method_str')) # 无法获取到"
   ]
  },
  {
   "cell_type": "code",
   "execution_count": null,
   "metadata": {},
   "outputs": [],
   "source": [
    "# (5) 设置属性：setattr(obj,'y',19)\n",
    "class Student(object):\n",
    "    \n",
    "    def __init__(self,name,score):\n",
    "        self.name = name\n",
    "        self.score = score\n",
    "        self.sex = 'male'\n",
    "        self.__teacher = 'Susan'\n",
    "    \n",
    "    def method_add(self,a):\n",
    "        return a+self.score\n",
    "    \n",
    "    def __method_str(self,s):\n",
    "        return s+self.name\n",
    "\n",
    "bob = Student('bob',100)\n",
    "setattr(bob,'name','boboo')\n",
    "setattr(bob,'score',99)\n",
    "print(getattr(bob,'name'))\n",
    "print(getattr(bob,'score'))"
   ]
  },
  {
   "cell_type": "markdown",
   "metadata": {},
   "source": [
    "### 动态绑定属性和方法\n",
    "众所周知，作为一种动态语言，python可以在创建类后还能对该类动态绑定属性和方法，也能在创建实例后对该实例动态绑定属性和方法。但如果想要限制绑定的属性和方法，可以使用一个特殊变量\\_\\_slot\\_\\_："
   ]
  },
  {
   "cell_type": "code",
   "execution_count": null,
   "metadata": {},
   "outputs": [],
   "source": [
    "class Student(object):\n",
    "    __slots__ = ('name', 'age') # 用tuple定义允许绑定的属性名称\n",
    "\n",
    "# 在对Student类定义了__slot__以后，创建的Student类就不能绑定‘name’和‘age’以外的属性了。\n",
    "# 但是注意，__slot__定义的属性仅对当前实例起作用，对继承的子类的实例不起作用。"
   ]
  },
  {
   "cell_type": "markdown",
   "metadata": {},
   "source": [
    "### 魔法方法\n",
    "魔法方法是针对类而言的。  \n",
    "首先澄清“方法”和普通函数的区别：前者也是函数，但是是类的成员函数，后者相对前者而言，一般是指在类外定义的函数。  \n",
    "python中提供一些特殊方法，它们都具有__func__()的形式，当用户在自己创建的类中复写了某个这种方法时，该类会在对应的时机自动调用该方法，这些方法称为魔法方法。  \n",
    "比如，在一个类中实现了__len__()，该类的对象就可以被python的内建函数len()作为参数，而返回用户在__len__()自己定义的值。  \n",
    "常见的魔法方法：\\_\\_new\\_\\_()、\\_\\_init\\_\\_()、\\_\\_len\\_\\_()、\\_\\_str\\_\\_()、\\_\\_iter\\_\\_()、\\_\\_next\\_\\_()、\\_\\_getitem\\_\\_()、\\_\\_getattr\\_\\_()、\\_\\_call\\_\\_()、\\_\\_del\\_\\_()、\\_\\_repr\\_\\_()等。  \n"
   ]
  },
  {
   "cell_type": "code",
   "execution_count": null,
   "metadata": {},
   "outputs": [],
   "source": [
    "# __init__()与__new__()：\n",
    "# 这两个方法是最常见的魔法方法。\n",
    "# __new__()是一个对象实例化的时候调用的第一个方法，它的返回值决定了是否调用__init__()方法；\n",
    "# 而__init__()方法是构造器，它在__new__()的基础上完成一些其他的初始化动作，类似于C++的构造函数。\n",
    "# 函数原型：\n",
    "# __new__(cls[,*argv])\n",
    "# __init__(self,[,*argv])\n",
    "\n",
    "# (1) __new__第一个参数cls代表当前类，此参数在实例化时由Python解释器自动识别，其他参数用来直接传递给__init__方法。\n",
    "# (2) __new__必须返回一个实例化出来的实例（这点在自己实现__new__时要特别注意，\n",
    "# 可以返回父类（通过super(当前类名, cls)）__new__出来的实例，或者直接是object的__new__出来的实例），\n",
    "# 如果返回的是当前类的实例，则调用__init__方法，否则不会调用__init__方法；\n",
    "# 另外，__new__函数的第一个参数是cls来保证是当前类实例，\n",
    "# 如果是其他类的类名，那么实际创建返回的就是其他类的实例，也不会调用当前类的__init__函数（而且也不会调用其他类的__init__函数）。\n",
    "# (3) __init__不需要返回值。"
   ]
  },
  {
   "cell_type": "markdown",
   "metadata": {},
   "source": [
    "其他一些魔法方法的简单介绍：  \n",
    "\\_\\_len\\_\\_()：能让class作用于len()函数  \n",
    "\\_\\_str\\_\\_()：返回print该类的对象时的自定义字符串  \n",
    "\\_\\_iter\\_\\_()与\\_\\_next\\_\\_()：为了使对象能像list或tuple等那样作用于for循环  \n",
    "\\_\\_getitem\\_\\_()：为了使对象能像list或tuple那样可以按索引取元素  \n",
    "\\_\\_getattr\\_\\_()：为了调用对象没有定义的属性时返回自定义信息  \n",
    "\\_\\_call\\_\\_()：定义了该特殊方法，就能使对象像函数那样被调用（在python中，函数也是对象，只不过是可调用（callable）对象）  "
   ]
  },
  {
   "cell_type": "markdown",
   "metadata": {},
   "source": [
    "### @property"
   ]
  },
  {
   "cell_type": "code",
   "execution_count": null,
   "metadata": {},
   "outputs": [],
   "source": [
    "# 在面向对象的设计中，我们通常将类的属性隐藏起来，对外暴露该属性的getter和setter函数，\n",
    "# 用来对该属性进行访问和设置，其目的是可以对属性的值进行检查。\n",
    "# python提供内建装饰器@property，可以将类的方法变成属性使用，这样，外部调用该属性时，实际是调用该方法。\n",
    "# 实现代码如下：\n",
    "class Student(object):\n",
    "\n",
    "    @property\n",
    "    def score(self):\n",
    "        return self._score\n",
    "\n",
    "    @score.setter\n",
    "    def score(self, value):\n",
    "        if not isinstance(value, int):\n",
    "            raise ValueError('score must be an integer!')\n",
    "        if value < 0 or value > 100:\n",
    "            raise ValueError('score must between 0 ~ 100!')\n",
    "        self._score = value\n",
    "\n",
    "# 代码中可以看出，@property作用于方法score（其功能类似于getter），并创建一个新的装饰器@score.setter，\n",
    "# 它作用于另外一个score（其功能类似于setter），其中定义了如何处理对变量值的限制。"
   ]
  },
  {
   "cell_type": "markdown",
   "metadata": {},
   "source": [
    "### 元类\n",
    "python中一切都是对象，类也是对象——是由“元类（metaclass）”创建的对象。元类是万类之王，由元类创建普通类，然后由普通类创建实例。\n",
    "python中，object是type（type是一个可调用对象，也是一个类）的父类，它们都属于元类，因为它们都能创建类。"
   ]
  },
  {
   "cell_type": "code",
   "execution_count": null,
   "metadata": {},
   "outputs": [],
   "source": []
  }
 ],
 "metadata": {
  "kernelspec": {
   "display_name": "Python 3",
   "language": "python",
   "name": "python3"
  },
  "language_info": {
   "codemirror_mode": {
    "name": "ipython",
    "version": 3
   },
   "file_extension": ".py",
   "mimetype": "text/x-python",
   "name": "python",
   "nbconvert_exporter": "python",
   "pygments_lexer": "ipython3",
   "version": "3.8.3"
  },
  "toc": {
   "base_numbering": 1,
   "nav_menu": {},
   "number_sections": true,
   "sideBar": true,
   "skip_h1_title": false,
   "title_cell": "Table of Contents",
   "title_sidebar": "Contents",
   "toc_cell": false,
   "toc_position": {},
   "toc_section_display": true,
   "toc_window_display": false
  }
 },
 "nbformat": 4,
 "nbformat_minor": 4
}
