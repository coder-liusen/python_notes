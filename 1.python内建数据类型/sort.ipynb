{
 "cells": [
  {
   "cell_type": "markdown",
   "metadata": {},
   "source": [
    "python提供了内建函数和内建方法，对list、字符串、字典等可迭代对象进行排序。  \n",
    "借助lambda（匿名函数），还可以对嵌套的可迭代对象进行排序。  "
   ]
  },
  {
   "cell_type": "code",
   "execution_count": null,
   "metadata": {},
   "outputs": [],
   "source": [
    "## 1.数值列表排序\n",
    "import random\n",
    "lst = list(range(20))\n",
    "random.shuffle(lst)\n",
    "print(lst)\n",
    "lst.sort(reverse=False) # 方法一：使用列表内建方法\n",
    "print(lst)\n",
    "random.shuffle(lst)\n",
    "lst2 = sorted(lst,reverse=False) # 方法二：使用python内建函数\n",
    "print(lst2)"
   ]
  },
  {
   "cell_type": "code",
   "execution_count": null,
   "metadata": {},
   "outputs": [],
   "source": [
    "## 2.字符串排序：相当于对字母排序。返回字母列表\n",
    "s = 'acbedb'\n",
    "print(sorted(s))"
   ]
  },
  {
   "cell_type": "code",
   "execution_count": null,
   "metadata": {},
   "outputs": [],
   "source": [
    "## 3.sorted用法举例\n",
    "# sorted()的原型：sorted(iterable, key=None, reverse=False)\n",
    "# sorted()函数根据参数key，按照元素的某种映射来排序。\n",
    "\n",
    "# (1) 字符串列表，按照长度进行排序\n",
    "slst = ['abcd','ab','a','b']\n",
    "print(sorted(slst,key=lambda x:len(x)))\n",
    "slst.sort(key=len)\n",
    "print(slst)\n",
    "\n",
    "# (2) 列表嵌套元组，通过key指定按照哪一维进行排序\n",
    "lst = [('b',3),('d',2),('a',4),('c',1)]\n",
    "print(sorted(lst,key = lambda x:x[1])) # 按照第二维进行排序\n",
    "# 如果不给key参数，那么默认地，先按第一维进行排序，对于第一维相同的，再按第二维排序。\n",
    "\n",
    "# (3) 列表嵌套列表，与列表嵌套元组排序类似，也可以通过key参数定义按照哪一维进行排序。\n",
    "lst = [['b',2],['d',1],['c',3],['a',1]]\n",
    "print(sorted(lst,key = lambda x : x[1])) # 按第二维进行排序\n",
    "\n",
    "# (4) 列表嵌套字典排序：与列表嵌套列表和列表嵌套元组类似，可以通过key参数定义按照哪个键进行排序。\n",
    "foo = [{\"name\":\"zs\",\"age\":19},{\"name\":\"ll\",\"age\":54},\n",
    "       {\"name\":\"wa\",\"age\":17},{\"name\":\"df\",\"age\":23}] # 列表中所有字典有相同的键，只是值不同\n",
    "print(sorted(foo,key=lambda x:x['name'],reverse= False)) # 按照 \"name\" 键进行排序\n",
    "\n",
    "# key参数还可以设置为两个映射.\n",
    "\n",
    "# (5) 正数从小到大，负数从大到小排序 \n",
    "lst = [2,-5,6,1,-20,-5]\n",
    "print(sorted(lst,key=lambda x:(x<0,abs(x))))\n",
    "# 在该例中，先按照第一个映射 “x<0” 排一遍序；对于该映射中值相同的，再按照第二个映射 “abs(x)” 排序。\n",
    "\n",
    "# (6) 列表嵌套列表，先按第一维排序，第一维排序相同的，再按第二维排序\n",
    "lst = [['b',2],['d',1],['d',3],['a',1]]\n",
    "print(sorted(lst,key = lambda x : (x[0],x[1])))\n",
    "\n",
    "\n",
    "# (7) 字典排序\n",
    "# 思路：先将字典转成列表嵌套元组，然后排序，然后再将排序好的列表嵌套元组转回成字典\n",
    "dct = {'name':'zs','sex':'man','city':'bj'}\n",
    "\n",
    "# 方法一：用zip()加字典推导式\n",
    "a = zip(dct.keys(),dct.values())\n",
    "b = [i for i in a]\n",
    "c = sorted(b,key=lambda x:x[0])\n",
    "print({ i[0]:i[1] for i in c})\n",
    "\n",
    "# 方法二：用 items()方法 + 字典推导式（因为dict的items()本身就可以将字典转成列表嵌套元组的形式）\n",
    "dct = {'name':'zs','sex':'man','city':'bj'}\n",
    "a = sorted(dct.items(),key=lambda x:x[0])\n",
    "print({i[0]:i[1] for i in a})\n"
   ]
  },
  {
   "cell_type": "code",
   "execution_count": null,
   "metadata": {},
   "outputs": [],
   "source": []
  }
 ],
 "metadata": {
  "kernelspec": {
   "display_name": "Python 3",
   "language": "python",
   "name": "python3"
  },
  "language_info": {
   "codemirror_mode": {
    "name": "ipython",
    "version": 3
   },
   "file_extension": ".py",
   "mimetype": "text/x-python",
   "name": "python",
   "nbconvert_exporter": "python",
   "pygments_lexer": "ipython3",
   "version": "3.8.3"
  },
  "toc": {
   "base_numbering": 1,
   "nav_menu": {},
   "number_sections": true,
   "sideBar": true,
   "skip_h1_title": false,
   "title_cell": "Table of Contents",
   "title_sidebar": "Contents",
   "toc_cell": false,
   "toc_position": {},
   "toc_section_display": true,
   "toc_window_display": false
  }
 },
 "nbformat": 4,
 "nbformat_minor": 4
}
