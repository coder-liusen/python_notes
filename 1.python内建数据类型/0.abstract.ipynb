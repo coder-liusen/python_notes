{
 "cells": [
  {
   "cell_type": "markdown",
   "metadata": {},
   "source": [
    "概述：\n",
    "python内建数据类型包括：数值（int、float、complex、bool）、字符串、元组、列表、集合、字典。\n",
    "\n",
    "其中，数值、字符串、元组属于不可变数据类型；列表、集合、字典属于可变数据类型。对于前者，在该类型的变量赋值声明时，开辟内存空间存放该变量的值，该变量对应的是内存空间地址，若对变量的值进行修改（通过该变量的某个引用的重新赋值），则会开辟一块新内存空间，存放新的赋值，变量指向新的地址，而原地址中的值始终不会改变；对于后者，在该类型的变量首次赋值声明时，同样会开辟内存空间存放该变量的值，但当修改值时，变量地址不变（注意，这里的修改值指的是使用切片方法或者python内置方法（如list.append( )、list.remove( )、dict.pop( )、dict.clear( )等）改变对象中的元素的值，而不是对该对象重新赋值。若重新赋值，也会开辟新的地址）。\n",
    "\n",
    "python支持类型强制转换，其用法为：直接用类型函数（如str(a),float(a),bool(a)），但注意只在某些类型间可以转换，若在不允许的类型间转换，则会报错。"
   ]
  },
  {
   "cell_type": "code",
   "execution_count": null,
   "metadata": {},
   "outputs": [],
   "source": []
  }
 ],
 "metadata": {
  "kernelspec": {
   "display_name": "Python 3",
   "language": "python",
   "name": "python3"
  },
  "language_info": {
   "codemirror_mode": {
    "name": "ipython",
    "version": 3
   },
   "file_extension": ".py",
   "mimetype": "text/x-python",
   "name": "python",
   "nbconvert_exporter": "python",
   "pygments_lexer": "ipython3",
   "version": "3.8.3"
  },
  "toc": {
   "base_numbering": 1,
   "nav_menu": {},
   "number_sections": true,
   "sideBar": true,
   "skip_h1_title": false,
   "title_cell": "Table of Contents",
   "title_sidebar": "Contents",
   "toc_cell": false,
   "toc_position": {},
   "toc_section_display": true,
   "toc_window_display": false
  }
 },
 "nbformat": 4,
 "nbformat_minor": 4
}
