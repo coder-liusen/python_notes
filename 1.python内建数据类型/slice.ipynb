{
 "cells": [
  {
   "cell_type": "markdown",
   "metadata": {},
   "source": [
    "切片是针对可迭代对象获取其等间隔索引的子集的一种方法。  \n",
    "支持切片操作的类型有：str、bytes、list、tuple等（注意，set不支持切片操作）。  \n",
    "切片操作的一个能耐的地方在于，它可以有负的步长——意味着从后往前取元素。  \n",
    "下面以list为例介绍切片的用法。  "
   ]
  },
  {
   "cell_type": "code",
   "execution_count": null,
   "metadata": {},
   "outputs": [],
   "source": [
    "## 切片的基本用法\n",
    "lst = list(range(20))\n",
    "start_index = 3\n",
    "end_index = 15\n",
    "step = 2\n",
    "print(lst[start_index : end_index : step]) #若step为正，则需start_index < end_index，从前往后；\n",
    "                                           #若step为负，则需start_index > end_index，从后往前"
   ]
  },
  {
   "cell_type": "code",
   "execution_count": null,
   "metadata": {},
   "outputs": [],
   "source": [
    "## 切片的进阶用法：省略参数\n",
    "# 注意，start_index、end_index、step三者都可以不填，当不填时，都有相应的默认值。但不同情况下默认值不同。\n",
    "# 大多数情况下，start_index若不填，则默认从列表最开始取，end_index若不填，则默认取到列表最末尾；step若不填，则默认为1。\n",
    "# 但是当step为-1时，start_index若不填，则默认从列表最末尾取，end_index若不填，则默认取到列表最开始，即倒序取元素。"
   ]
  },
  {
   "cell_type": "code",
   "execution_count": null,
   "metadata": {},
   "outputs": [],
   "source": [
    "## 切片用法举例\n",
    "\n",
    "lst = [0,1,2,3,4,5,6,7,8,9]\n",
    "\n",
    "## 基本用法\n",
    "print(lst[1:5:2]) #表示数组a从1号元素到4号元素，每隔2个取一个元素\n",
    "print(lst[-1:-6:-1]) #负索引表示从最右开始计数的，负步长表示从右往左取值，该语句等价于a[9:4:-1]（注意，如果a[-6:-1:-1]，则返回空列表，因为取不出任何元素）\n",
    "\n",
    "## 进阶用法\n",
    "print(lst[:]) # 省略三个参数，取全部，正序\n",
    "print(lst[::]) # 也是省略三个参数，也是取全部，正序\n",
    "print(lst[1:3]) # 省略step，step默认为1，即取1~2号元素\n",
    "print(lst[:5]) # 省略start_index和step，start_index默认为0，step默认为1，即取从序列开始到4号元素\n",
    "print(lst[3:]) # 省略end_index和step，end_index默认为列表a的长度,step默认为1，即取从3号开始到列表末尾的元素\n",
    "print(lst[::-1]) # 省略start_index和end_index，由于step为-1，所以从右往左取，start_index默认为-1，end_index默认为-a的长度-1，即取全部，倒序\n",
    "\n",
    "## 巧妙用法\n",
    "print(lst[::2]) # 取偶数位置元素\n",
    "print(lst[1::2]) # 取奇数位置元素\n",
    "lst2 = lst[:] # 将a浅拷贝给b\n",
    "print(lst2)"
   ]
  },
  {
   "cell_type": "code",
   "execution_count": null,
   "metadata": {},
   "outputs": [],
   "source": []
  }
 ],
 "metadata": {
  "kernelspec": {
   "display_name": "Python 3",
   "language": "python",
   "name": "python3"
  },
  "language_info": {
   "codemirror_mode": {
    "name": "ipython",
    "version": 3
   },
   "file_extension": ".py",
   "mimetype": "text/x-python",
   "name": "python",
   "nbconvert_exporter": "python",
   "pygments_lexer": "ipython3",
   "version": "3.8.3"
  },
  "toc": {
   "base_numbering": 1,
   "nav_menu": {},
   "number_sections": true,
   "sideBar": true,
   "skip_h1_title": false,
   "title_cell": "Table of Contents",
   "title_sidebar": "Contents",
   "toc_cell": false,
   "toc_position": {},
   "toc_section_display": true,
   "toc_window_display": false
  }
 },
 "nbformat": 4,
 "nbformat_minor": 4
}
