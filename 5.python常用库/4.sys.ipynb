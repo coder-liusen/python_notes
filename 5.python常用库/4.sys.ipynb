{
 "cells": [
  {
   "cell_type": "markdown",
   "metadata": {},
   "source": [
    "sys模块提供了python解释器运行的相关变量和函数。  \n",
    "下面列举sys的几个常用方法和变量。"
   ]
  },
  {
   "cell_type": "code",
   "execution_count": null,
   "metadata": {},
   "outputs": [],
   "source": [
    "import sys"
   ]
  },
  {
   "cell_type": "code",
   "execution_count": null,
   "metadata": {},
   "outputs": [],
   "source": [
    "# (1) sys.argv：一个列表，其内容是当前程序的程序名和执行该程序的命令行参数（argv[0]为当前程序名，\n",
    "# argv[1]为当前程序接收的第一个参数，argv[2]为当前程序接收的第二个参数）\n",
    "# 例：\n",
    "# test.py文件内容如下：\n",
    "import sys\n",
    "print(eval(sys.argv[1]))\n",
    "# 命令行中调用python解释器执行该文件：\n",
    "python test.py 1+3\n",
    "# 运行结果为：\n",
    "4"
   ]
  },
  {
   "cell_type": "code",
   "execution_count": null,
   "metadata": {},
   "outputs": [],
   "source": [
    "# (2) sys.version：解释器的版本号\n",
    "print(sys.version)"
   ]
  },
  {
   "cell_type": "code",
   "execution_count": null,
   "metadata": {},
   "outputs": [],
   "source": [
    "# (3) sys.exit(n)：退出程序\n",
    "sys.exit(0)"
   ]
  },
  {
   "cell_type": "code",
   "execution_count": null,
   "metadata": {},
   "outputs": [],
   "source": [
    "# (4) sys.path：返回模块的搜索路径，初始化时用PYTHONPATH环境变量的值\n",
    "print(sys.path)"
   ]
  },
  {
   "cell_type": "code",
   "execution_count": null,
   "metadata": {},
   "outputs": [],
   "source": [
    "# (5) sys.platform：返回操作系统的名称\n",
    "print(sys.platform)"
   ]
  },
  {
   "cell_type": "code",
   "execution_count": null,
   "metadata": {},
   "outputs": [],
   "source": [
    "# (6) sys.modules：是一个全局字典，该字典是python启动后就加载在内存中，每当程序员导入新的模块，sys.modules将自动记录该模块，当第二次再导入该模块时，\n",
    "# python会直接到字典中查找，从而加快了程序运行的速度，它拥有字典所拥有的一切方法。\n",
    "print(sys.modules)"
   ]
  },
  {
   "cell_type": "code",
   "execution_count": null,
   "metadata": {},
   "outputs": [],
   "source": [
    "# (7) sys.stdin、sys.stdout、sys.stderr：分别是与解释器的标准输入、标准输出和错误流相对应的文件对象。（stdin与input的功能基本相同）"
   ]
  }
 ],
 "metadata": {
  "kernelspec": {
   "display_name": "Python 3",
   "language": "python",
   "name": "python3"
  },
  "language_info": {
   "codemirror_mode": {
    "name": "ipython",
    "version": 3
   },
   "file_extension": ".py",
   "mimetype": "text/x-python",
   "name": "python",
   "nbconvert_exporter": "python",
   "pygments_lexer": "ipython3",
   "version": "3.8.3"
  },
  "toc": {
   "base_numbering": 1,
   "nav_menu": {},
   "number_sections": true,
   "sideBar": true,
   "skip_h1_title": false,
   "title_cell": "Table of Contents",
   "title_sidebar": "Contents",
   "toc_cell": false,
   "toc_position": {},
   "toc_section_display": true,
   "toc_window_display": false
  }
 },
 "nbformat": 4,
 "nbformat_minor": 4
}
