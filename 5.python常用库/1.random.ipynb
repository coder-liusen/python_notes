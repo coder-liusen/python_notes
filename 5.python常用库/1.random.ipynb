{
 "cells": [
  {
   "cell_type": "markdown",
   "metadata": {},
   "source": [
    "random模块是python标准库中用于生成伪随机数的模块。"
   ]
  },
  {
   "cell_type": "code",
   "execution_count": null,
   "metadata": {},
   "outputs": [],
   "source": [
    "import random"
   ]
  },
  {
   "cell_type": "code",
   "execution_count": null,
   "metadata": {},
   "outputs": [],
   "source": [
    "## 1.seed()：该方法用于改变随机数生成器的种子\n",
    "random.seed(2)"
   ]
  },
  {
   "cell_type": "code",
   "execution_count": null,
   "metadata": {},
   "outputs": [],
   "source": [
    "## 2.整数用函数\n",
    "# (1) randint(a,b)：随机返回区间[a,b]的一个整数，其中a和b均为整数\n",
    "print(random.randint(1,2))\n",
    "# (2) randrange(start,stop[,step])：随机返回一个整数的等差序列中的一个元素。\n",
    "#可以省略start和step：random.randrange(stop)（此时默认start为0，step为1）\n",
    "print(random.randrange(10))"
   ]
  },
  {
   "cell_type": "code",
   "execution_count": null,
   "metadata": {},
   "outputs": [],
   "source": [
    "## 3.序列用函数\n",
    "# (1) choice(seq)：从非空序列返回一个随机元素\n",
    "print(random.choice([12,5,6,7.8,\"kk\"]))\n",
    "# (2) shuffle(x[,random])：将序列x随机打乱位置，参数中，random是一个无参数函数，默认情况下，该函数为random()\n",
    "lst = list(range(10))\n",
    "random.shuffle(lst)\n",
    "print(lst)\n",
    "# (3) sample(ppopulation，k)：用于无重复随机抽样，从总体序列或集合中选择的k长度的列表，该列表中所有元素都唯一\n",
    "lst = [1,2,5,5,5,2,3,8,2,2,1,5,7,7,6,5,2]\n",
    "print(random.sample(lst,5))"
   ]
  },
  {
   "cell_type": "code",
   "execution_count": null,
   "metadata": {},
   "outputs": [],
   "source": [
    "## 4.实值用函数\n",
    "# (1) random()：随机返回区间[0,1)的一个浮点数\n",
    "print('(1)',random.random())\n",
    "# (2) uniform(a,b)：返回随机浮点数，其中a和b是浮点数\n",
    "print('(2)',random.uniform(3.2,7.8))\n",
    "# (3) triangular(low, high, mode)：返回随机浮点数（三角形分布）\n",
    "print('(3)',random.triangular(1, 2, 3))\n",
    "# (4) betavariate(alpha, beta)：返回随机浮点数（Beta分布）\n",
    "print('(4)',random.betavariate(2,5))\n",
    "# (5) expovariate(lambd)：返回随机浮点数（指数分布）\n",
    "print('(5)',random.expovariate(3.5))\n",
    "# (6) gammavariate(alpha, beta)：返回随机浮点数（Gamma分布）\n",
    "print('(6)',random.gammavariate(11,12))\n",
    "# (7) gauss(mu, sigma)：返回随机浮点数（高斯分布）\n",
    "print('(7)',random.gauss(7,12))\n",
    "# (8) lognormvariate(mu, sigma)：返回随机浮点数（对数正态分布）\n",
    "print('(8)',random.lognormvariate(1,1.2))\n",
    "# (9) normalvariate(mu, sigma）：返回随机浮点数（正态分布）\n",
    "print('(9)',random.normalvariate(2,5.6))\n",
    "# (10) vonmisesvariate(mu, kappa)：返回随机浮点数（卡帕分布）\n",
    "print('(10)',random.vonmisesvariate(3,8.9))\n",
    "# (11) paretovariate(alpha)：返回随机浮点数（帕累托分布）\n",
    "print('(11)',random.paretovariate(6.7))\n",
    "# (12) weibullvariate(alpha, beta)：返回随机浮点数（威布尔分布）\n",
    "print('(12)',random.weibullvariate(10,-10))"
   ]
  },
  {
   "cell_type": "code",
   "execution_count": null,
   "metadata": {},
   "outputs": [],
   "source": [
    "## 例：生成0~100的随机数\n",
    "# (1) 0~100的随机小数\n",
    "print('(1)随机小数',100*random.random())\n",
    "# (2) 0~100的随机整数 \n",
    "print('(2)随机整数',random.randint(1,100))\n",
    "# 或者用choice\n",
    "print('(3)随机整数',random.choice(range(0,101))) "
   ]
  },
  {
   "cell_type": "code",
   "execution_count": null,
   "metadata": {},
   "outputs": [],
   "source": []
  }
 ],
 "metadata": {
  "kernelspec": {
   "display_name": "Python 3",
   "language": "python",
   "name": "python3"
  },
  "language_info": {
   "codemirror_mode": {
    "name": "ipython",
    "version": 3
   },
   "file_extension": ".py",
   "mimetype": "text/x-python",
   "name": "python",
   "nbconvert_exporter": "python",
   "pygments_lexer": "ipython3",
   "version": "3.8.3"
  },
  "toc": {
   "base_numbering": 1,
   "nav_menu": {},
   "number_sections": true,
   "sideBar": true,
   "skip_h1_title": false,
   "title_cell": "Table of Contents",
   "title_sidebar": "Contents",
   "toc_cell": false,
   "toc_position": {},
   "toc_section_display": true,
   "toc_window_display": false
  }
 },
 "nbformat": 4,
 "nbformat_minor": 4
}
