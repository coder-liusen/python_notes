{
 "cells": [
  {
   "cell_type": "markdown",
   "metadata": {},
   "source": [
    "装饰器是python中的一种复用代码的优美方式，是一种“语法糖”。  \n",
    "（关于语法糖，请参考：https://blog.csdn.net/five3/article/details/83474633 ）"
   ]
  },
  {
   "cell_type": "code",
   "execution_count": null,
   "metadata": {},
   "outputs": [],
   "source": [
    "# 我们有一个函数，用来打印当前时间\n",
    "import datetime\n",
    "def now():\n",
    "    print(datetime.datetime.now())\n",
    "f = now\n",
    "f()\n",
    "\n",
    "# 我们可以想到，在很多的函数中都会有打印当前时间、打印函数名等的需求。\n",
    "# 因此我们希望在这些函数中提供这种比较通用的功能，但又不希望改变那个函数的定义（因为那太麻烦了）。\n",
    "# 这时我们就需要用到装饰器，装饰器在代码运行期间动态为其增加功能。每个装饰器对应于一种功能，可以通过简单的方法，为其他所有函数提供该功能。"
   ]
  },
  {
   "cell_type": "code",
   "execution_count": null,
   "metadata": {},
   "outputs": [],
   "source": [
    "# 装饰器是基于“高阶函数”和“闭包”的概念实现的。"
   ]
  },
  {
   "cell_type": "code",
   "execution_count": null,
   "metadata": {},
   "outputs": [],
   "source": [
    "# (1) 高阶函数\n",
    "# python中的高阶函数，就是以函数为参数的函数，比如python中的内置函数map()。\n",
    "# 实现一个高阶函数的例子:\n",
    "def add(x, y, f):\n",
    "    return f(x) + f(y)\n",
    "\n",
    "print(add(-5, 6, abs))"
   ]
  },
  {
   "cell_type": "code",
   "execution_count": null,
   "metadata": {},
   "outputs": [],
   "source": [
    "# (2) 闭包\n",
    "# 闭包：在外层函数中定义一个内层函数，内层函数引用外层函数中的局部变量，\n",
    "# 并且内层函数可以在其定义环境外（即外层函数之外）被执行（这是通过外层函数返回内层函数的引用实现的）。这时这个内层函数就称之为闭包。\n"
   ]
  },
  {
   "cell_type": "code",
   "execution_count": null,
   "metadata": {},
   "outputs": [],
   "source": [
    "# 下面给出一个装饰器的例子：\n",
    "import datetime\n",
    "import functools\n",
    "def log(func):\n",
    "    @functools.wraps(func)\n",
    "    def wrapper(*args, **kw):\n",
    "        print('call %s():' % func.__name__) # 装饰器提供的功能：打印函数名\n",
    "        print('time now is:'+str(datetime.datetime.now())) # 装饰器提供的功能：打印当前时间\n",
    "        return func(*args, **kw)\n",
    "    return wrapper\n",
    "\n",
    "# 使用装饰器的方法：\n",
    "@log\n",
    "def add(a,b):\n",
    "    return \"sum of a and b is :%f\"%(a+b)\n",
    "\n",
    "print(add(1,2))"
   ]
  },
  {
   "cell_type": "code",
   "execution_count": null,
   "metadata": {},
   "outputs": [],
   "source": [
    "# 对上面例子的解释：\n",
    "# 在定义装饰器的代码中，定义了一个log函数，它接收func函数，并定义了一个wrapper函数用来扩展func函数的功能，\n",
    "# 该装饰器提供的扩展功能是打印func函数的名字和当前时间。\n",
    "# 在使用装饰器的代码时，定义函数now()前面加@log，就实现了对now()使用了log装饰器。则调用now()时，会执行log扩展的功能。\n",
    "# 实际上，在给now()函数加装饰器时，相当于执行了now = log(now)，log返回的是wrapper()函数，\n",
    "# 因此执行now()函数实际上是执行wrapper()函数（即被log()扩展了功能的now()）。\n",
    "\n",
    "# 注意，在装饰器定义的代码中，嵌套地定义了两个函数：log()和wrapper()，wrapper()返回func(*args,**kw)，\n",
    "# log()返回wrapper，乍一看都是返回函数，实际不一样。调用log()函数时，返回wrapper这个函数对象；\n",
    "# 调用wrapper()函数时，执行func(*args,**kw)函数并返回func函数的返回值。\n",
    "\n",
    "# 从设计的角度上来看，装饰器可以理解为一个闭包。\n",
    "# 在上面的装饰器例子中，wrapper函数内嵌于log函数中，\n",
    "# 在wrapper函数中使用了其外部的对象fn，并且由于装饰器函数log返回wrapper，所以wrapper能在其定义环境外被执行。因此wrapper函数是闭包。"
   ]
  },
  {
   "cell_type": "code",
   "execution_count": null,
   "metadata": {},
   "outputs": [],
   "source": []
  }
 ],
 "metadata": {
  "kernelspec": {
   "display_name": "Python 3",
   "language": "python",
   "name": "python3"
  },
  "language_info": {
   "codemirror_mode": {
    "name": "ipython",
    "version": 3
   },
   "file_extension": ".py",
   "mimetype": "text/x-python",
   "name": "python",
   "nbconvert_exporter": "python",
   "pygments_lexer": "ipython3",
   "version": "3.8.3"
  },
  "toc": {
   "base_numbering": 1,
   "nav_menu": {},
   "number_sections": true,
   "sideBar": true,
   "skip_h1_title": false,
   "title_cell": "Table of Contents",
   "title_sidebar": "Contents",
   "toc_cell": false,
   "toc_position": {},
   "toc_section_display": true,
   "toc_window_display": false
  }
 },
 "nbformat": 4,
 "nbformat_minor": 4
}
