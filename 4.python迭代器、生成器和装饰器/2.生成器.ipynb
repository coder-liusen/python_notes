{
 "cells": [
  {
   "cell_type": "markdown",
   "metadata": {},
   "source": [
    "在python中，有很多集合数据类型，它们可以保存序列元素。但当序列是由某个函数生成的，且序列中元素个数非常多时，将这些元素都保存在集合类型对象中会非常占内存。因此，python提供了生成器，生成器的作用是一边循环一边计算，产生新的元素，而不必一次产生所有元素。\n",
    "可以看出，生成器的概念类似于迭代器的概念，都是在需要的时候才生成下一个元素。不同的是迭代器基于可迭代对象产生，生成器基于函数（或者说规则）产生。"
   ]
  },
  {
   "cell_type": "markdown",
   "metadata": {},
   "source": [
    "### 如何创建生成器"
   ]
  },
  {
   "cell_type": "code",
   "execution_count": null,
   "metadata": {},
   "outputs": [],
   "source": [
    "# (1) 将列表推导式的[ ]改为( )即可变成生成器\n",
    "a = [i for i in range(10)]  # a是列表\n",
    "b = (i for i in range(10))  # b是生成器\n",
    "print(type(b))\n",
    "# 注意，这种方式看似是“基于可迭代对象产生的”，但其实是“基于函数产生的”\n",
    "\n",
    "# 列表推导式、字典推导式、生成器的对比：\n",
    "td_lst = [i for i in range(10)] #列表推导式\n",
    "ge_lst = (i for i in range(10)) #生成器（而不是元组推导式^_^）\n",
    "import random\n",
    "dct = {k:random.randint(4,9) for k in ['a','b','c','d']} #字典推导式"
   ]
  },
  {
   "cell_type": "code",
   "execution_count": null,
   "metadata": {},
   "outputs": [],
   "source": [
    "# (2) 在函数中返回值时候用yield，就把函数变成了生成器。\n",
    "# 在python中，使用了yield代替return的函数被称为生成器。与普通函数不同，生成器函数返回一个生成器，用于迭代操作，可以通过next()调用之。\n",
    "# 在调用生成器运行的过程中，每次遇到 yield 时函数会暂停并保存当前所有的运行信息，返回 yield 的值,\n",
    "# 并在下一次执行 next() 方法时从当前位置继续运行。\n",
    "\n",
    "# 例：斐波那契数列\n",
    "import sys\n",
    " \n",
    "def fibonacci(n): # 生成器函数 - 斐波那契\n",
    "    a, b, counter = 0, 1, 0\n",
    "    while True:\n",
    "        if (counter > n): \n",
    "            return\n",
    "        yield a\n",
    "        a, b = b, a + b\n",
    "        counter += 1\n",
    "f = fibonacci(10) # f 是一个生成器，由生成器函数返回\n",
    " \n",
    "while True:\n",
    "    try:\n",
    "        print (next(f), end=\" \")\n",
    "    except StopIteration:\n",
    "        pass\n",
    "\n",
    "# 注意，用这两种方式创建生成器，本质上都是基于函数产生的，只不过第二种方式更明显地体现这一点。"
   ]
  },
  {
   "cell_type": "markdown",
   "metadata": {},
   "source": [
    "### 总结：生成器与迭代器的异同"
   ]
  },
  {
   "cell_type": "code",
   "execution_count": null,
   "metadata": {},
   "outputs": [],
   "source": [
    "# (1) 相同点：二者都不存储数据；都能作用于next()函数，不断返回下一个值。\n",
    "# (2) 不同点：迭代器只能基于可迭代对象而生成；生成器基于函数而生成。"
   ]
  }
 ],
 "metadata": {
  "kernelspec": {
   "display_name": "Python 3",
   "language": "python",
   "name": "python3"
  },
  "language_info": {
   "codemirror_mode": {
    "name": "ipython",
    "version": 3
   },
   "file_extension": ".py",
   "mimetype": "text/x-python",
   "name": "python",
   "nbconvert_exporter": "python",
   "pygments_lexer": "ipython3",
   "version": "3.8.3"
  },
  "toc": {
   "base_numbering": 1,
   "nav_menu": {},
   "number_sections": true,
   "sideBar": true,
   "skip_h1_title": false,
   "title_cell": "Table of Contents",
   "title_sidebar": "Contents",
   "toc_cell": false,
   "toc_position": {},
   "toc_section_display": true,
   "toc_window_display": false
  }
 },
 "nbformat": 4,
 "nbformat_minor": 4
}
