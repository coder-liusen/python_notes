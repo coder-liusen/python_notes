{
 "cells": [
  {
   "cell_type": "markdown",
   "metadata": {},
   "source": [
    "可迭代对象（Iterator）与迭代器（Iterable）：  \n",
    "可迭代对象与迭代器是有区别的。前者可以理解成一个存储元素序列的“容器”，后者则是一个“流”。 "
   ]
  },
  {
   "cell_type": "markdown",
   "metadata": {},
   "source": [
    "### 迭代器的操作"
   ]
  },
  {
   "cell_type": "code",
   "execution_count": null,
   "metadata": {},
   "outputs": [],
   "source": [
    "import collections \n",
    "te = collections.Iterable # 迭代器\n",
    "tr = collections.Iterator # 可迭代对象 "
   ]
  },
  {
   "cell_type": "code",
   "execution_count": null,
   "metadata": {},
   "outputs": [],
   "source": [
    "# python中，可作用于for循环的对象都是可迭代对象，\n",
    "# 包括python内置的集合数据类型list、str、tuple、dict、set，以及generator（generator既是可迭代对象，也是迭代器）\n",
    "lst = list(range(20))\n",
    "for item in lst:\n",
    "    print(item)"
   ]
  },
  {
   "cell_type": "code",
   "execution_count": null,
   "metadata": {},
   "outputs": [],
   "source": [
    "# 对可迭代对象，可以构建一个对应的“迭代器”\n",
    "ite = iter(lst)\n",
    "\n",
    "# 迭代器可以作用于next()函数，next()函数调用迭代器，不断返回其下一个值。\n",
    "# 迭代器表示的是一个数据流，next()函数不断获取数据流中下一个元素，但不能提前知道数据流总共有多少元素，\n",
    "# 因此，可以说，迭代器是惰性计算的，因为它只在需要返回下一个数据时才走一步。\n",
    "# 迭代器的好处是节约内存，因为它不需要创建一个新的序列。它只需要基于原有的序列，不断生成下一个数据即可。"
   ]
  },
  {
   "cell_type": "code",
   "execution_count": null,
   "metadata": {},
   "outputs": [],
   "source": [
    "# 实际上，对可迭代对象应用for循环，本质是对该可迭代对象构建一个迭代器，然后不断调用next()函数\n",
    "for x in [1,2,3,4,5]:\n",
    "    pass\n",
    "# 等价于：\n",
    "it = iter([1,2,3,4,5])\n",
    "while True:\n",
    "    try:\n",
    "        x = next(it)\n",
    "    except StopIteration: #遇到StopIteration异常则退出循环\n",
    "        break"
   ]
  },
  {
   "cell_type": "code",
   "execution_count": null,
   "metadata": {},
   "outputs": [],
   "source": [
    "# next()方法的使用有一个小技巧，它类似于字典的get()方法，即当获取不到值的时候，可以返回指定的某个值\n",
    "# next(it,val)"
   ]
  },
  {
   "cell_type": "markdown",
   "metadata": {},
   "source": [
    "### 总结"
   ]
  },
  {
   "cell_type": "code",
   "execution_count": null,
   "metadata": {},
   "outputs": [],
   "source": [
    "# 可迭代对象与迭代器的区别：\n",
    "# 可迭代对象是储存序列元素的一个容器，它能够作用于for循环；\n",
    "# 迭代器相当于数据流的一个指针，它作用于next()函数，每次向前移动一个元素，指向数据流的下一个元素。迭代器不存储数据。"
   ]
  },
  {
   "cell_type": "code",
   "execution_count": null,
   "metadata": {},
   "outputs": [],
   "source": []
  }
 ],
 "metadata": {
  "kernelspec": {
   "display_name": "Python 3",
   "language": "python",
   "name": "python3"
  },
  "language_info": {
   "codemirror_mode": {
    "name": "ipython",
    "version": 3
   },
   "file_extension": ".py",
   "mimetype": "text/x-python",
   "name": "python",
   "nbconvert_exporter": "python",
   "pygments_lexer": "ipython3",
   "version": "3.8.3"
  },
  "toc": {
   "base_numbering": 1,
   "nav_menu": {},
   "number_sections": true,
   "sideBar": true,
   "skip_h1_title": false,
   "title_cell": "Table of Contents",
   "title_sidebar": "Contents",
   "toc_cell": false,
   "toc_position": {},
   "toc_section_display": true,
   "toc_window_display": false
  }
 },
 "nbformat": 4,
 "nbformat_minor": 4
}
