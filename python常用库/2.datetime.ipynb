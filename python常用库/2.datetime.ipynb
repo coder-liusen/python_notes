{
 "cells": [
  {
   "cell_type": "markdown",
   "metadata": {},
   "source": [
    "datetime模块是python标准库中处理日期和时间的模块。"
   ]
  },
  {
   "cell_type": "markdown",
   "metadata": {},
   "source": [
    "datetime模块中包含六个类： \n",
    "\n",
    "|  类名   | 功能说明  |\n",
    "|  ----  | ----  |\n",
    "| date  | 日期对象,常用的属性有year, month, day |\n",
    "| time  | 时间对象,常用的属性有hour, minute, second, microsecond |\n",
    "| datetime  | 日期时间对象 |\n",
    "| datetime_CAPI  | 日期时间对象C语言接口 |\n",
    "| timedelta  | 时间间隔，即两个时间点之间的长度 |\n",
    "| tzinfo  | 时区信息对象 |"
   ]
  },
  {
   "cell_type": "markdown",
   "metadata": {},
   "source": [
    "datetime模块中包含的常量：  \n",
    "\n",
    "|  常量   | 功能说明  |用法  |返回值  |\n",
    "|  ----  | ----  | ----  | ----  |\n",
    "| MAXYEAR  | 返回能表示的最大年份 | datetime.MAXYEAR | 9999 |\n",
    "| MINYEAR  | 返回能表示的最小年份 | datetime.MAXYEAR | 1 |"
   ]
  },
  {
   "cell_type": "markdown",
   "metadata": {},
   "source": [
    "下面分别介绍各类的常用属性和方法"
   ]
  },
  {
   "cell_type": "code",
   "execution_count": null,
   "metadata": {},
   "outputs": [],
   "source": [
    "import datetime"
   ]
  },
  {
   "cell_type": "markdown",
   "metadata": {},
   "source": [
    "### date类"
   ]
  },
  {
   "cell_type": "code",
   "execution_count": null,
   "metadata": {},
   "outputs": [],
   "source": [
    "# (1) date对象由year、month、day构成\n",
    "a = datetime.date.today()\n",
    "print(a.year) #获取年\n",
    "print(a.month) #获取月\n",
    "print(a.day) #获取日"
   ]
  },
  {
   "cell_type": "code",
   "execution_count": null,
   "metadata": {},
   "outputs": [],
   "source": [
    "# (2) max、min：date对象所能表示的最大、最小日期（date对象）\n",
    "print(datetime.date.max) #最大日期\n",
    "print(datetime.date.min) #最小日期"
   ]
  },
  {
   "cell_type": "code",
   "execution_count": null,
   "metadata": {},
   "outputs": [],
   "source": [
    "# (3) resolution：date对象表示日期的最小间隔（天）\n",
    "print(datetime.date.resolution)"
   ]
  },
  {
   "cell_type": "code",
   "execution_count": null,
   "metadata": {},
   "outputs": [],
   "source": [
    "# (4) today()：返回当前日期（date对象）\n",
    "print(datetime.date.today())"
   ]
  },
  {
   "cell_type": "code",
   "execution_count": null,
   "metadata": {},
   "outputs": [],
   "source": [
    "# (5) isocalendar()：返回符合ISO标准的日期（元组）\n",
    "a = datetime.date(2017,3,22)\n",
    "print(a.isocalendar())"
   ]
  },
  {
   "cell_type": "code",
   "execution_count": null,
   "metadata": {},
   "outputs": [],
   "source": [
    "# (6) isoformat()：返回符合ISO标准的日期（字符串）\n",
    "a = datetime.date(2017,3,22)\n",
    "print(a.isoformat())"
   ]
  },
  {
   "cell_type": "code",
   "execution_count": null,
   "metadata": {},
   "outputs": [],
   "source": [
    "# (7) isoweekday()：返回符合ISO标准的星期数（数值）\n",
    "a = datetime.date(2017,3,22)\n",
    "print(a.isoweekday())"
   ]
  },
  {
   "cell_type": "markdown",
   "metadata": {},
   "source": [
    "### time类\n",
    "time类由hour、minute、second、microsecond、tzinfo组成"
   ]
  },
  {
   "cell_type": "code",
   "execution_count": null,
   "metadata": {},
   "outputs": [],
   "source": [
    "# (1) 获取time类的hour、minute、second、microsecond\n",
    "a = datetime.time(12,20,59,899)\n",
    "print(a)\n",
    "\n",
    "print(a.hour)\n",
    "print(a.minute)\n",
    "print(a.second)\n",
    "print(a.microsecond)"
   ]
  },
  {
   "cell_type": "code",
   "execution_count": null,
   "metadata": {},
   "outputs": [],
   "source": [
    "# (2) max、min：最大、最小时间\n",
    "print(datetime.time.max) #最大时间\n",
    "print(datetime.time.min) #最小时间"
   ]
  },
  {
   "cell_type": "code",
   "execution_count": null,
   "metadata": {},
   "outputs": [],
   "source": [
    "# (3) resolution：时间间隔\n",
    "print(datetime.time.resolution)"
   ]
  },
  {
   "cell_type": "code",
   "execution_count": null,
   "metadata": {},
   "outputs": [],
   "source": [
    "# (4) isoformat ：ISO标准输出\n",
    "a = datetime.time(12,20,59,899)\n",
    "print(a.isoformat())"
   ]
  },
  {
   "cell_type": "markdown",
   "metadata": {},
   "source": [
    "### datetime类 \n",
    "这个类可以看成是date类和time类的合体，其大部分方法和属性都继承自这两个类"
   ]
  },
  {
   "cell_type": "code",
   "execution_count": null,
   "metadata": {},
   "outputs": [],
   "source": [
    "# (1) now()：返回当前日期和时间\n",
    "a = datetime.datetime.now()\n",
    "print(a)"
   ]
  },
  {
   "cell_type": "code",
   "execution_count": null,
   "metadata": {},
   "outputs": [],
   "source": [
    "# (2) date()、time()：分别返回日期和时间\n",
    "a = datetime.datetime.now()\n",
    "print(a.date())\n",
    "print(a.time())"
   ]
  },
  {
   "cell_type": "code",
   "execution_count": null,
   "metadata": {},
   "outputs": [],
   "source": [
    "# (3) utctimetuple()：返回UTC时间元组\n",
    "a = datetime.datetime.now()\n",
    "print(a.utctimetuple())"
   ]
  },
  {
   "cell_type": "code",
   "execution_count": null,
   "metadata": {},
   "outputs": [],
   "source": [
    "# (4) combine()：将一个date对象和一个time对象合并生成一个datetime对象\n",
    "a = datetime.datetime.now()\n",
    "b = datetime.datetime(2017, 3, 22, 16, 9, 33, 494248)\n",
    "print(a)\n",
    "print(b)\n",
    "print(datetime.datetime.combine(a.date(),b.time()))"
   ]
  },
  {
   "cell_type": "code",
   "execution_count": null,
   "metadata": {},
   "outputs": [],
   "source": [
    "# (5) 格式化日期时间\n",
    "\n",
    "# datetime.datetime对象格式化成字符串 \n",
    "a = datetime.datetime.now()\n",
    "ff = a.strftime('%Y - %m - %d  %H : %M : %S')\n",
    "print(ff)\n",
    "print(type(ff))\n",
    "\n",
    "# 字符串格式化成datetime.datetime对象\n",
    "ff = datetime.datetime.strptime('2017-3-22 15:25','%Y-%m-%d %H:%M')\n",
    "print(ff)\n",
    "print(type(ff))"
   ]
  },
  {
   "cell_type": "code",
   "execution_count": null,
   "metadata": {},
   "outputs": [],
   "source": []
  }
 ],
 "metadata": {
  "kernelspec": {
   "display_name": "Python 3",
   "language": "python",
   "name": "python3"
  },
  "language_info": {
   "codemirror_mode": {
    "name": "ipython",
    "version": 3
   },
   "file_extension": ".py",
   "mimetype": "text/x-python",
   "name": "python",
   "nbconvert_exporter": "python",
   "pygments_lexer": "ipython3",
   "version": "3.8.3"
  },
  "toc": {
   "base_numbering": 1,
   "nav_menu": {},
   "number_sections": true,
   "sideBar": true,
   "skip_h1_title": false,
   "title_cell": "Table of Contents",
   "title_sidebar": "Contents",
   "toc_cell": false,
   "toc_position": {},
   "toc_section_display": true,
   "toc_window_display": false
  }
 },
 "nbformat": 4,
 "nbformat_minor": 4
}
