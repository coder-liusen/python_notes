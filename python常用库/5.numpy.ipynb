{
 "cells": [
  {
   "cell_type": "code",
   "execution_count": null,
   "metadata": {},
   "outputs": [],
   "source": [
    "import numpy as np"
   ]
  },
  {
   "cell_type": "markdown",
   "metadata": {},
   "source": [
    "### 创建numpy数组（ndarray）"
   ]
  },
  {
   "cell_type": "code",
   "execution_count": null,
   "metadata": {},
   "outputs": [],
   "source": [
    "## 1.基于列表或元组创建\n",
    "a = np.array([1,2,3]) # 基于列表创建一维数组\n",
    "b = np.array((1,2,3)) # 基于元组创建一维数组\n",
    "c = np.array([[1,2,3],[4,5,6]],dtype=complex) # 基于列表创建二维数组，可指定数值类型\n",
    "\n",
    "print(a,b,c)"
   ]
  },
  {
   "cell_type": "code",
   "execution_count": null,
   "metadata": {},
   "outputs": [],
   "source": [
    "## 2.创建空数组\n",
    "a = np.empty((3,4))\n",
    "\n",
    "print(a)"
   ]
  },
  {
   "cell_type": "code",
   "execution_count": null,
   "metadata": {},
   "outputs": [],
   "source": [
    "## 3.创建全1数组\n",
    "a = np.ones([5,3],dtype=np.int)\n",
    "\n",
    "print(a)"
   ]
  },
  {
   "cell_type": "code",
   "execution_count": null,
   "metadata": {},
   "outputs": [],
   "source": [
    "## 4.创建全0数组\n",
    "a = np.zeros([5,3],dtype=np.float)\n",
    "\n",
    "print(a)"
   ]
  },
  {
   "cell_type": "code",
   "execution_count": null,
   "metadata": {},
   "outputs": [],
   "source": [
    "## 5.创建全为指定数值的数组\n",
    "a = np.full((3,5),6.6,float)\n",
    "\n",
    "print(a)"
   ]
  },
  {
   "cell_type": "code",
   "execution_count": null,
   "metadata": {},
   "outputs": [],
   "source": [
    "## 6.创建单位矩阵\n",
    "a = np.eye(4)\n",
    "\n",
    "print(a)"
   ]
  },
  {
   "cell_type": "code",
   "execution_count": null,
   "metadata": {},
   "outputs": [],
   "source": [
    "## 7.创建对角矩阵\n",
    "a = np.diag([5,6,7,8,9]) # 元素位于主对角线上\n",
    "b = np.diag([5,6,7,8,9],2) # 元素位于主对角线上第2行\n",
    "\n",
    "print(a,b)"
   ]
  },
  {
   "cell_type": "code",
   "execution_count": null,
   "metadata": {},
   "outputs": [],
   "source": [
    "## 8.创建一维等差序列\n",
    "a = range(4,10,2)\n",
    "b = np.arange(4,10,2) # numpy的arange与python内建的range用法类似，但np.arange可生成浮点型序列，range只能生成整型序列\n",
    "\n",
    "print(a,b)"
   ]
  },
  {
   "cell_type": "code",
   "execution_count": null,
   "metadata": {},
   "outputs": [],
   "source": [
    "## 9.创建等差数列、等比数列\n",
    "a = np.linspace(3,9,5) #等差数列，起始为3，终止为9，个数为5\n",
    "b = np.logspace(2,6,5,base=2) #等比数列，起始为2，终止为6，个数为5，底为2\n",
    "\n",
    "print(a,b)"
   ]
  },
  {
   "cell_type": "code",
   "execution_count": null,
   "metadata": {},
   "outputs": [],
   "source": [
    "## 10.根据行号、列号生成相应位置的矩阵元素\n",
    "def func(i,j):\n",
    "    return i+j\n",
    "\n",
    "a = np.fromfunction(func,(5,6))\n",
    "\n",
    "print(a)"
   ]
  },
  {
   "cell_type": "code",
   "execution_count": null,
   "metadata": {},
   "outputs": [],
   "source": [
    "## 11.生成随机数组\n",
    "\n",
    "# 随机浮点型数组，范围(0,1)\n",
    "a = np.random.rand(3,5)\n",
    "\n",
    "print('浮点型数组\\n',a)\n",
    "\n",
    "# 随机整型数组，可指定范围\n",
    "a = np.random.randint(0,100,size=3) # [0,100)范围内的形状为3的一维数组\n",
    "b = np.random.randint(0,100,size=(3,4)) # [0,100)范围内的形状 为(3,4)的二维数组\n",
    "\n",
    "print('整型数组\\n',a,b)\n",
    "\n",
    "# 均匀分布数组\n",
    "a = np.random.uniform(1,5,10) #[1,5)范围内的形状为10的一维数组\n",
    "b = np.random.uniform(1,5,(3,4)) #[1,5)范围内的形状 为(3,4)的二维数组\n",
    "\n",
    "print('均匀分布数组\\n',a,b)\n",
    "\n",
    "# 正态分布数组\n",
    "a = np.random.normal(loc=1.75,scale=0.1,size=[4,5]) #4行5列的二维数组\n",
    "\n",
    "print('正态分布数组\\n',a)"
   ]
  },
  {
   "cell_type": "markdown",
   "metadata": {},
   "source": [
    "### 查看numpy数组的属性"
   ]
  },
  {
   "cell_type": "code",
   "execution_count": null,
   "metadata": {},
   "outputs": [],
   "source": [
    "## 1.数组形状：shape\n",
    "a = np.array([[1,2,3],[4,5,6]])\n",
    "\n",
    "print(a.shape,a.shape[0],a.shape[1])"
   ]
  },
  {
   "cell_type": "code",
   "execution_count": null,
   "metadata": {},
   "outputs": [],
   "source": [
    "## 2.数组维度：ndim\n",
    "a = np.array([[1,2,3],[4,5,6]])\n",
    "\n",
    "print(a.ndim)"
   ]
  },
  {
   "cell_type": "code",
   "execution_count": null,
   "metadata": {},
   "outputs": [],
   "source": [
    "## 3.数组元素个数：size\n",
    "a = np.array([[1,2,3],[4,5,6]])\n",
    "\n",
    "print(a.size)"
   ]
  },
  {
   "cell_type": "code",
   "execution_count": null,
   "metadata": {},
   "outputs": [],
   "source": [
    "## 4.数组元素的类型：dtype\n",
    "a = np.array([[1,2,3],[4,5,6]])\n",
    "\n",
    "print(a.dtype)"
   ]
  },
  {
   "cell_type": "markdown",
   "metadata": {},
   "source": [
    "### numpy数组元素的截取"
   ]
  },
  {
   "cell_type": "code",
   "execution_count": null,
   "metadata": {},
   "outputs": [],
   "source": [
    "## 1.按行列截取\n",
    "a = np.array([[1,2,3,4,5],[6,7,8,9,10]])\n",
    "\n",
    "print(a[0:1]) #截取第一行,返回 [[1 2 3 4 5]]\n",
    "print(a[1,2:5]) #截取第二行，第三、四、五列，返回 [8 9 10]\n",
    "print(a[1,:]) #截取第二行,返回 [ 6  7  8  9 10]"
   ]
  },
  {
   "cell_type": "code",
   "execution_count": null,
   "metadata": {},
   "outputs": [],
   "source": [
    "## 2.按条件（布尔表达式）截取\n",
    "a = np.array([[1,2,3,4,5],[6,7,8,9,10]])\n",
    "b = a[a>6] # 截取矩阵a中大于6的元素，返回的是一维数组（[7,8,9,10]]）\n",
    "\n",
    "print(b)\n",
    "\n",
    "# 注：numpy数组与数值的关系运算，结果还是个数组\n",
    "print(a>6)"
   ]
  },
  {
   "cell_type": "code",
   "execution_count": null,
   "metadata": {},
   "outputs": [],
   "source": [
    "## 3.按条件处理数组\n",
    "a = np.array([[1,2,3,4,5],[6,7,8,9,10]])\n",
    "\n",
    "# (1) 对按条件截取的元素重新赋值\n",
    "a[a>6] = 0\n",
    "print(a)\n",
    "\n",
    "# (2) 按条件将数组元素分为两部分，分别赋一个值：np.where\n",
    "b = np.where(a==0,1,-1)\n",
    "print(b)"
   ]
  },
  {
   "cell_type": "markdown",
   "metadata": {},
   "source": [
    "### numpy数组合并"
   ]
  },
  {
   "cell_type": "code",
   "execution_count": null,
   "metadata": {},
   "outputs": [],
   "source": [
    "a = np.array([[1,2],[3,4]])\n",
    "b = np.array([[5,6],[7,8]])\n",
    "\n",
    "print('a:\\n',a)\n",
    "print('b:\\n',b)"
   ]
  },
  {
   "cell_type": "code",
   "execution_count": null,
   "metadata": {},
   "outputs": [],
   "source": [
    "## 竖着合并\n",
    "print(np.vstack((a,b)))"
   ]
  },
  {
   "cell_type": "code",
   "execution_count": null,
   "metadata": {},
   "outputs": [],
   "source": [
    "## 横着合并\n",
    "print(np.hstack((a,b)))"
   ]
  },
  {
   "cell_type": "markdown",
   "metadata": {},
   "source": [
    "### numpy数组常用方法"
   ]
  },
  {
   "cell_type": "code",
   "execution_count": null,
   "metadata": {},
   "outputs": [],
   "source": [
    "## 1.数组复制\n",
    "a = np.array([[1,2,3,4,5],[6,7,8,9,0]])\n",
    "b = np.copy(a[:,2:5]) #将数组a的第2-5列拷贝成数组b\n",
    "\n",
    "print(b)"
   ]
  },
  {
   "cell_type": "code",
   "execution_count": null,
   "metadata": {},
   "outputs": [],
   "source": [
    "## 2.数组排序\n",
    "a = np.array([[2.5,3,0.6],[11,10.5,10.1],[5,21,6]])\n",
    "\n",
    "print('a\\n',a)\n",
    "print('行排序\\n',np.sort(a,axis=0)) # 行排序\n",
    "print('列排序\\n',np.sort(a,axis=1)) # 列排序"
   ]
  },
  {
   "cell_type": "code",
   "execution_count": null,
   "metadata": {},
   "outputs": [],
   "source": [
    "## 3.数组去重\n",
    "a = np.array([[1,2,3,3],[2,5,5,6]])\n",
    "\n",
    "print(np.unique(a)) # 返回一个一维数组"
   ]
  },
  {
   "cell_type": "code",
   "execution_count": null,
   "metadata": {},
   "outputs": [],
   "source": [
    "## 4.数组转置\n",
    "a = np.array([[1,2,3],[4,5,6]])\n",
    "\n",
    "print(a.T)"
   ]
  },
  {
   "cell_type": "code",
   "execution_count": null,
   "metadata": {},
   "outputs": [],
   "source": [
    "## 5.改变数组的形状：reshape或resize\n",
    "a = np.random.randint(1,100,12)\n",
    "print('a.shape =\\n',a.shape)\n",
    "\n",
    "# (1) reshape，注意元素个数不能改变\n",
    "b = a.reshape(3,4) # 指定维数\n",
    "print('b =\\n',b)\n",
    "\n",
    "c = a.reshape(-1,2)\n",
    "print('c =\\n',c)\n",
    "\n",
    "# (2) resize，元素个数可以改变\n",
    "d = np.random.randint(1,100,(3,3,5))\n",
    "print('d.shape =\\n',d.shape)\n",
    "\n",
    "d.resize(10,5) # 若元素个数增多，则多出来的部分用0填充\n",
    "print('d = \\n',d)"
   ]
  },
  {
   "cell_type": "markdown",
   "metadata": {},
   "source": [
    "注意：  \n",
    "reshape与resize的区别：  \n",
    "第一，reshape()函数改变数组形状，但元素个数不能变；resize()函数改变数组形状，元素个数可以变（多出来的部分充0）。  \n",
    "第二，reshape()函数产生新的数组，原数组不变；resize()函数在原数组上修改。"
   ]
  },
  {
   "cell_type": "code",
   "execution_count": null,
   "metadata": {},
   "outputs": [],
   "source": [
    "## 6.按条件分类赋值：where（三目运算）\n",
    "score = np.array([[80, 88], [82, 81], [84, 75], [86, 83], [75, 81]])\n",
    "re_score = np.where(score < 80, 0, 90)\n",
    "print(re_score)"
   ]
  },
  {
   "cell_type": "markdown",
   "metadata": {},
   "source": [
    "### numpy常用统计方法\n",
    "amax（最大值）、amin（最小值）、mean（平均值）、median（中值）、std（方差）、sum（和）"
   ]
  },
  {
   "cell_type": "code",
   "execution_count": null,
   "metadata": {},
   "outputs": [],
   "source": [
    "## amax()方法\n",
    "score = np.array([[80, 88], [82, 81], [84, 75]])\n",
    "print(np.amax(score)) #求整个数组最大值\n",
    "print(np.amax(score,axis=0)) #求每行最大值，返回一个一维数组\n",
    "print(np.amax(score,axis=1)) #求每列最大值，返回一个一维数组\n",
    "\n",
    "# 其他方法（amin、mean等）的使用方法与amax类似。"
   ]
  },
  {
   "cell_type": "markdown",
   "metadata": {},
   "source": [
    "### numpy常用运算"
   ]
  },
  {
   "cell_type": "code",
   "execution_count": null,
   "metadata": {},
   "outputs": [],
   "source": [
    "# (1) 数组与数值的运算\n",
    "score = np.array([[80, 88], [82, 81], [84, 75]])\n",
    "print(score+8)\n",
    "print(score-8)\n",
    "print(score*8)\n",
    "print(score/8)\n",
    "print(score//8)\n",
    "print(score%8)"
   ]
  },
  {
   "cell_type": "code",
   "execution_count": null,
   "metadata": {},
   "outputs": [],
   "source": [
    "# (2) 数组与数组的运算\n",
    "a = np.array([[1,2,3],[4,5,6]])\n",
    "b = np.array([[5.5,6.5,7.1],[2.1,3.5,6.9]])\n",
    "# 数组加\n",
    "print(a+b)\n",
    "print(np.add(a,b))\n",
    "# 数组减\n",
    "print(a-b)\n",
    "print(np.subtract(a,b))\n",
    "# 数组逐元素乘\n",
    "print(a*b)\n",
    "print(np.multiply(a,b))\n",
    "# 数组逐元素除\n",
    "print(a/b)\n",
    "print(np.divide(a,b))\n",
    "\n",
    "# 矩阵乘法\n",
    "a1 = np.array([[1,2,3],[4,5,6]])\n",
    "b1 = np.array([[11,12],[5,12],[7,9]])\n",
    "print(np.dot(a1,b1))\n",
    "\n",
    "# 查找两个数组中的相同元素（交集)\n",
    "print(np.intersect1d(a,b)) \n",
    "# 查找在数组a中不在数组b中的元素（差集）\n",
    "print(np.setdiff1d(a,b)) \n",
    "# 查找两个数组的并集元素（并集）\n",
    "print(np.union1d(a,b)) "
   ]
  },
  {
   "cell_type": "markdown",
   "metadata": {},
   "source": [
    "### 数学函数"
   ]
  },
  {
   "cell_type": "code",
   "execution_count": null,
   "metadata": {},
   "outputs": [],
   "source": [
    "# (1) 三角函数\n",
    "print(np.sin(np.pi))\n",
    "print(np.cos(np.pi))\n"
   ]
  },
  {
   "cell_type": "code",
   "execution_count": null,
   "metadata": {},
   "outputs": [],
   "source": [
    "# (2) 舍入函数\n",
    "print(np.round(5.66))"
   ]
  },
  {
   "cell_type": "markdown",
   "metadata": {},
   "source": [
    "### 加载文件中的数据\n",
    "函数原型：np.loadtxt(fname,dtype,comments='#',delimiter=None,skiprows=0,usecols=None)"
   ]
  },
  {
   "cell_type": "code",
   "execution_count": null,
   "metadata": {},
   "outputs": [],
   "source": []
  }
 ],
 "metadata": {
  "kernelspec": {
   "display_name": "Python 3",
   "language": "python",
   "name": "python3"
  },
  "language_info": {
   "codemirror_mode": {
    "name": "ipython",
    "version": 3
   },
   "file_extension": ".py",
   "mimetype": "text/x-python",
   "name": "python",
   "nbconvert_exporter": "python",
   "pygments_lexer": "ipython3",
   "version": "3.8.3"
  },
  "toc": {
   "base_numbering": 1,
   "nav_menu": {},
   "number_sections": true,
   "sideBar": true,
   "skip_h1_title": false,
   "title_cell": "Table of Contents",
   "title_sidebar": "Contents",
   "toc_cell": false,
   "toc_position": {},
   "toc_section_display": true,
   "toc_window_display": false
  }
 },
 "nbformat": 4,
 "nbformat_minor": 2
}
