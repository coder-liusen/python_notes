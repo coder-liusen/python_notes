{
 "cells": [
  {
   "cell_type": "markdown",
   "metadata": {},
   "source": [
    "os模块是python标准库中用于访问操作系统功能的模块。通用的操作有：系统操作（获取平台信息）、对目录的操作、对文件的操作。"
   ]
  },
  {
   "cell_type": "code",
   "execution_count": null,
   "metadata": {},
   "outputs": [],
   "source": [
    "import os"
   ]
  },
  {
   "cell_type": "code",
   "execution_count": null,
   "metadata": {},
   "outputs": [],
   "source": [
    "# 1、系统操作\n",
    "# (1) os.sep：提取操作系统的路径分隔符（不同操作系统的路径分隔符不同）\n",
    "print(os.sep)\n",
    "# (2) os.name：返回你正在使用的工作平台\n",
    "print(os.name)\n",
    "# (3) os.getcwd()：获取当前工作目录\n",
    "print(os.getcwd())\n",
    "# (4) os.getenv(环境变量名称)：获取环境变量名称，注意环境变量名称应是一个字符串\n",
    "print(os.getenv('path'))\n",
    "# (5) os.putenv()：设置环境变量\n",
    "# (6) os.system(命令)：运行shell命令\n",
    "# (7) os.exit()：终止当前进程"
   ]
  },
  {
   "cell_type": "code",
   "execution_count": 13,
   "metadata": {},
   "outputs": [
    {
     "name": "stdout",
     "output_type": "stream",
     "text": [
      "['.ipynb_checkpoints', '1.random.ipynb', '2.datetime.ipynb', '3.os.ipynb', '4.sys.ipynb', '5.numpy.ipynb', '6.matplotlib.ipynb', '7.pandas.ipynb', '8.sklearn.ipynb', 'pandas_code', 'sklearn_code']\n"
     ]
    }
   ],
   "source": [
    "# 2、对目录的操作（增删改查）\n",
    "# (1) os.listdir(路径名)：返回指定目录下所有文件和目录名（不给参数时，返回工作目录的文件和目录名）。\n",
    "print(os.listdir(os.getcwd()))\n",
    "# (2) os.mkdir(路径名)：创建一个目录（只能创建单层目录）\n",
    "# (3) os.rmdir(路径名)：删除一个空目录（如果目录中有文件则无法删除）\n",
    "# (4) os.makedirs(路径名)：生成多层递归目录（如果目录全部存在，则创建目录失败）\n",
    "# (5) os.removedirs(路径名)：可以删除多层递归的空目录（若目录中有文件则无法删除）\n",
    "# (6) os.chdir(路径名)：改变当前目录，到指定的目录中\n",
    "# (7) os.rename(路径名)：重命名目录名或文件名（若文件名已存在，则重命名失败）"
   ]
  },
  {
   "cell_type": "code",
   "execution_count": 14,
   "metadata": {},
   "outputs": [],
   "source": [
    "# 3、对文件的操作\n",
    "# (1) os.mknod(\"text.txt\")：创建空文件\n",
    "# (2) os.remove(\"text.txt\")：删除文件（若要删除一个文件夹和其中所有文件，需使用shutil模块中的rmtree()方法）\n",
    "# (3) os.stat(“text.txt”)：获取文件属性"
   ]
  },
  {
   "cell_type": "code",
   "execution_count": null,
   "metadata": {},
   "outputs": [],
   "source": [
    "# 4、os.path模块\n",
    "# (1) os.path.exists(路径名)：判断给定路径是否存在\n",
    "# (2) os.path.isfile(路径名)：判断路径名是否是文件\n",
    "# (3) os.path.isdir(路径名)：判断路径名是否是目录\n",
    "# (4) os.path.getsize(路径名)：获得文件的大小，若路径不是文件而是目录，则返回0L\n",
    "# (5) os.path.split(路径名)：返回一个路径的目录名和文件名（事实上，如果你完全使用目录，它也会将最后一个目录作为文件名而分离，同时它不会判断文件或目录是否存在）\n",
    "# (6) os.path.splitext(“文件名”)：分离文件名和扩展名\n",
    "# (7) os.path.join(path,name)：连接目录-目录或目录-文件名\n",
    "# (8) os.path.basename(路径名)：返回路径中的文件名\n",
    "# (9) os.path.dirname(路径名)：返回路径中的目录名\n",
    "# (10) os.path.isabs(路径)：判断是否为绝对路径\n",
    "# (11) os.path.abspath(路径名)：获取绝对路径\n",
    "# (12) os.path.normpath(路径名)：规范路径名的字符串形式"
   ]
  }
 ],
 "metadata": {
  "kernelspec": {
   "display_name": "Python 3",
   "language": "python",
   "name": "python3"
  },
  "language_info": {
   "codemirror_mode": {
    "name": "ipython",
    "version": 3
   },
   "file_extension": ".py",
   "mimetype": "text/x-python",
   "name": "python",
   "nbconvert_exporter": "python",
   "pygments_lexer": "ipython3",
   "version": "3.8.3"
  },
  "toc": {
   "base_numbering": 1,
   "nav_menu": {},
   "number_sections": true,
   "sideBar": true,
   "skip_h1_title": false,
   "title_cell": "Table of Contents",
   "title_sidebar": "Contents",
   "toc_cell": false,
   "toc_position": {},
   "toc_section_display": true,
   "toc_window_display": false
  }
 },
 "nbformat": 4,
 "nbformat_minor": 4
}
