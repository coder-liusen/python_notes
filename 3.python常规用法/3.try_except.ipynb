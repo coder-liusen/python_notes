{
 "cells": [
  {
   "cell_type": "markdown",
   "metadata": {},
   "source": [
    "python异常：\n",
    "异常是运行时出现的错误。若异常不处理，被python解释器捕获的话，就会中断程序并报错；若也没有被python解释器捕获，则会发生不可预料的问题。"
   ]
  },
  {
   "cell_type": "markdown",
   "metadata": {},
   "source": [
    "### 异常类型"
   ]
  },
  {
   "cell_type": "markdown",
   "metadata": {},
   "source": [
    "python定义了异常类（即Exception类）和常见的异常类型，也可以自定义异常类型（需要直接或间接地继承Exception类）。  \n",
    "常见的异常类型：  \n",
    "（1）IOError：输入输出异常  \n",
    "（2）AttributeError：试图访问一个对象没有的属性  \n",
    "（3）ImportError：无法引入模块或包，基本是路径问题  \n",
    "（4）IndentationError：语法错误，代码没有正确的对齐  \n",
    "（5）IndexError：下标索引超出序列边界  \n",
    "（6）KeyError：试图访问你字典里不存在的键  \n",
    "（7）SyntaxError：Python代码逻辑语法出错，不能执行  \n",
    "（8）NameError：使用一个还未赋予对象的变量  "
   ]
  },
  {
   "cell_type": "markdown",
   "metadata": {},
   "source": [
    "### 捕捉和处理异常"
   ]
  },
  {
   "cell_type": "code",
   "execution_count": null,
   "metadata": {},
   "outputs": [],
   "source": [
    "## 与C++类似，python使用try...except...捕捉和处理异常。\n",
    "## 一般的格式为：\n",
    "try:\n",
    "    pass #执行代码\n",
    "except:\n",
    "    pass #发生异常时执行的代码\n",
    "else:\n",
    "    pass #没有异常时执行的代码\n",
    "finally:\n",
    "    pass #不管有无异常都会执行的代码"
   ]
  },
  {
   "cell_type": "code",
   "execution_count": null,
   "metadata": {},
   "outputs": [],
   "source": [
    "# 其中，except子句也可以指定一个异常对象：\n",
    "while True:\n",
    "    try:\n",
    "        x = int(input(\"请输入一个数字: \"))\n",
    "        break\n",
    "    except ValueError as verr:\n",
    "        print(\"您输入的不是数字，请再次尝试输入！\")"
   ]
  },
  {
   "cell_type": "code",
   "execution_count": null,
   "metadata": {},
   "outputs": [],
   "source": [
    "# 或者指定多个异常对象：\n",
    "try:\n",
    "    pass\n",
    "except (RuntimeError, TypeError, NameError):\n",
    "    pass"
   ]
  },
  {
   "cell_type": "markdown",
   "metadata": {},
   "source": [
    "### 抛出异常"
   ]
  },
  {
   "cell_type": "code",
   "execution_count": null,
   "metadata": {},
   "outputs": [],
   "source": [
    "# python使用raise来抛出异常，用法如下：\n",
    "x = 10\n",
    "if x > 5:\n",
    "    raise Exception('x 不能大于 5；x 的值为: {}'.format(x))"
   ]
  },
  {
   "cell_type": "markdown",
   "metadata": {},
   "source": [
    "### 断言（assert）"
   ]
  },
  {
   "cell_type": "code",
   "execution_count": null,
   "metadata": {},
   "outputs": [],
   "source": [
    "# assert（断言）是python的一个关键字，用于判断一个表达式，在表达式条件为 false 的时候触发异常。\n",
    "a = 6\n",
    "expression = (a>5)\n",
    "assert expression,'a is lower than 5'\n",
    "print('pass assert!')"
   ]
  },
  {
   "cell_type": "code",
   "execution_count": null,
   "metadata": {},
   "outputs": [],
   "source": []
  }
 ],
 "metadata": {
  "kernelspec": {
   "display_name": "Python 3",
   "language": "python",
   "name": "python3"
  },
  "language_info": {
   "codemirror_mode": {
    "name": "ipython",
    "version": 3
   },
   "file_extension": ".py",
   "mimetype": "text/x-python",
   "name": "python",
   "nbconvert_exporter": "python",
   "pygments_lexer": "ipython3",
   "version": "3.8.3"
  },
  "toc": {
   "base_numbering": 1,
   "nav_menu": {},
   "number_sections": true,
   "sideBar": true,
   "skip_h1_title": false,
   "title_cell": "Table of Contents",
   "title_sidebar": "Contents",
   "toc_cell": false,
   "toc_position": {},
   "toc_section_display": true,
   "toc_window_display": false
  }
 },
 "nbformat": 4,
 "nbformat_minor": 4
}
