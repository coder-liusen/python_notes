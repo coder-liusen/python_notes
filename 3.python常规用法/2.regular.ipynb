{
 "cells": [
  {
   "cell_type": "markdown",
   "metadata": {},
   "source": [
    "正则表达式是一种提供字符串匹配功能的规则。其使用方法是：用户给定一个“匹配模式”的字符串，然后用该匹配模式对一个待匹配的字符串进行匹配。"
   ]
  },
  {
   "cell_type": "markdown",
   "metadata": {},
   "source": [
    "### re库"
   ]
  },
  {
   "cell_type": "code",
   "execution_count": null,
   "metadata": {},
   "outputs": [],
   "source": [
    "# python提供re库支持正则表达式：\n",
    "import re"
   ]
  },
  {
   "cell_type": "markdown",
   "metadata": {},
   "source": [
    "注意，python中使用正则表达式，应在式前使用r防转义，因为\\在正则表达式中具有特殊含义，正则表达式的部分匹配规则需要借助\\给出。"
   ]
  },
  {
   "cell_type": "code",
   "execution_count": null,
   "metadata": {},
   "outputs": [],
   "source": [
    "# (1) 匹配方法：match()、search()、findall()\n",
    "# match()：尝试从字符串的起始位置匹配一个模式，如果匹配成功，返回一个match对象，否则返回None。\n",
    "# 原型：re.match(r'正则表达式'，str1)\n",
    "# search()：尝试在整个字符串中匹配模式，并返回第一个成功的匹配。\n",
    "# 原型：re.search(r'正则表达式'，str1)\n",
    "# findall()：在字符串中匹配模式，并返回所有的成功的匹配（以列表的形式）。\n",
    "# 原型：re.findall(r'正则表达式'，str1)\n"
   ]
  },
  {
   "cell_type": "markdown",
   "metadata": {},
   "source": [
    "注意，match()函数和search()函数只匹配一次，findall()则是匹配所有。"
   ]
  },
  {
   "cell_type": "code",
   "execution_count": null,
   "metadata": {},
   "outputs": [],
   "source": [
    "# re分组提取的字符串，以group对象返回。\n",
    "# 比如：(\\d{3})-(\\d{3,8})$ 定义了两个组，可以从匹配的字符串中提取出区号和本地号码\n",
    "m = re.match(r'^(\\d{3})-(\\d{3,8})$', '010-12345')\n",
    "print(m.group(0),m.group(1),m.group(2))\n",
    "\n",
    "# 可以看出，match返回的对象中，包含提取的group，group(0)表示原始字符串，group(1)、group(2)...表示分组提取的第一、二...个字符串"
   ]
  },
  {
   "cell_type": "code",
   "execution_count": null,
   "metadata": {},
   "outputs": [],
   "source": [
    "# (2) 切分字符串：split()，该方法比用字符串的split()函数更灵活\n",
    "print('a b   c'.split(' ')) # 字符串切分\n",
    "print(re.split(r'\\s+', 'a b   c')) # 正则表达式切分，第一个参数用来匹配分隔符"
   ]
  },
  {
   "cell_type": "code",
   "execution_count": null,
   "metadata": {},
   "outputs": [],
   "source": [
    "# (3) 替换子字符串：sub()\n",
    "print(re.sub(r'\\s+','-', 'a b   c'))"
   ]
  },
  {
   "cell_type": "code",
   "execution_count": null,
   "metadata": {},
   "outputs": [],
   "source": [
    "# (4) 编译正则表达式：compile()\n",
    "# compile()将正则表达式编译成一个对象，\n",
    "re_telephone = re.compile(r'^(\\d{3})-(\\d{3,8})$') # 编译\n",
    "print(re_telephone.match('010-12345').groups()) # 使用"
   ]
  },
  {
   "cell_type": "markdown",
   "metadata": {},
   "source": [
    "### 正则表达式的基本规则\n",
    "参考：https://github.com/ziishaned/learn-regex"
   ]
  },
  {
   "cell_type": "code",
   "execution_count": null,
   "metadata": {},
   "outputs": [],
   "source": [
    "# 正则表达式最基本的匹配模式，就是字符模式+数量模式，也就是在模式中指定匹配什么样的字符，以及匹配多少这样的字符"
   ]
  },
  {
   "cell_type": "code",
   "execution_count": null,
   "metadata": {},
   "outputs": [],
   "source": [
    "# (1)字符模式：\n",
    "# \\d：匹配数字\n",
    "# \\w：匹配数字、字母、下划线、中文字符\n",
    "# \\s：匹配空格、\\t或者\\n\n",
    "# .：匹配任意字符\n",
    "# 使用[]与-：可以指定匹配的字符的范围，比如[0-9a-zA-z\\_]表示匹配所有的数字、大小写字符和下划线\n",
    "# （注意，-在正则表达式中是特殊字符（表示匹配字符范围），若要保持原意，则需要用\\转义：\\-）\n",
    "# 使用|：可以指定匹配枚举的多个字符中的任意一个，比如a|b表示匹配a或者b\n"
   ]
  },
  {
   "cell_type": "code",
   "execution_count": null,
   "metadata": {},
   "outputs": [],
   "source": [
    "# (2) 数量模式：\n",
    "# {n}：表示匹配n个字符\n",
    "# {n,m}：表示匹配n~m个字符\n",
    "# +：表示匹配至少一个字符\n",
    "# ？：表示匹配最多一个字符\n",
    "# *：表示匹配任意个字符（包括0个）\n"
   ]
  },
  {
   "cell_type": "code",
   "execution_count": null,
   "metadata": {},
   "outputs": [],
   "source": [
    "# 对于数量模式，有一个需要注意的点：贪婪匹配与非贪婪匹配。\n",
    "# 正则表达式的匹配默认是非贪婪匹配，比如：\n",
    "print(re.match(r'^(\\d+)(0*)$', '102300').groups()) # 结果是：('102300', '')\n",
    "# (\\d+)把后面的0都匹配了，所以(0*)匹配不上任何字符\n",
    "# 若想让(0*)匹配上后面的0，则需要(\\d+)采取非贪婪匹配，则加?即可实现：\n",
    "print(re.match(r'^(\\d+?)(0*)$', '102300').groups())\n",
    "# 在此例中，(\\d+)非贪婪，则(0*)变成贪婪的了\n",
    "# “？”是正则表达式中的非贪婪操作符（同时它也是表示匹配0或1个字符的数目符），\n",
    "# 加在表达式中的数目符（如“ * ”、“ + ”、“ ？ ”、“{m,n}”）后，将贪婪匹配变为非贪婪匹配"
   ]
  },
  {
   "cell_type": "code",
   "execution_count": null,
   "metadata": {},
   "outputs": [],
   "source": [
    "# (3) 锚点模式：\n",
    "# ^表示行的开头，如^\\d表示必须以数字开头\n",
    "# ^$表示行的结束，如\\d$表示必须以数字结束"
   ]
  },
  {
   "cell_type": "code",
   "execution_count": null,
   "metadata": {},
   "outputs": [],
   "source": [
    "# (4) 匹配提取\n",
    "# 正则表达式的基本诉求是匹配模式，就是给定一个字符串，判断这个字符串中是否包含我定义的模式。\n",
    "# 而在此基础上，还可以有更高的诉求：提取。即在字符串中提取我的模式匹配到的部分。一个匹配中可以提取多组，这由()来实现的。\n",
    "# 比如上面的例子：(\\d{3})-(\\d{3,8})，表示在匹配的基础上，提取两组。"
   ]
  },
  {
   "cell_type": "markdown",
   "metadata": {},
   "source": [
    "### 测验"
   ]
  },
  {
   "cell_type": "code",
   "execution_count": null,
   "metadata": {},
   "outputs": [],
   "source": [
    "# (1) 切分字符串：（根据冒号或空格切分）\n",
    "s = \"info:ls 33 sd\"\n",
    "print(re.split(r\":| \",s))"
   ]
  },
  {
   "cell_type": "code",
   "execution_count": null,
   "metadata": {},
   "outputs": [],
   "source": [
    "# (2) 匹配以163.com结尾的邮箱\n",
    "s = \"lllsss@163.com\"\n",
    "ret = re.match(\"[\\w]{4,20}@163\\.com$\",s)\n",
    "print(ret.group())\n",
    "# 若匹配上，则ret.group()返回该字符串，若否，ret为None"
   ]
  },
  {
   "cell_type": "code",
   "execution_count": null,
   "metadata": {},
   "outputs": [],
   "source": [
    "# (3) 正则匹配不是以4和7结尾的手机号（match方法）\n",
    "ret = re.match(\"1\\d{9}[0-3,5-6,8-9]\",'13932122356')\n",
    "print(ret.group())"
   ]
  },
  {
   "cell_type": "code",
   "execution_count": null,
   "metadata": {},
   "outputs": [],
   "source": [
    "# (4) 匹配第一个url\n",
    "s = 'https://www.tentcent.com\\.jpg'\n",
    "# 方法一：findall\n",
    "res = re.findall(r\"https://.*?\\.jpg\",s)[0]\n",
    "print(res)\n",
    "# 方法二：search\n",
    "res = re.search(r\"https://.*?\\.jpg\",s)\n",
    "print(res.group())\n",
    "# 注意，与match类似，search需要group()提取"
   ]
  },
  {
   "cell_type": "code",
   "execution_count": null,
   "metadata": {},
   "outputs": [],
   "source": [
    "# (5) 匹配中文\n",
    "title = \"你好， hello ， 世界\"\n",
    "pattern = re.compile(r'[\\u4e00-\\u9fa5]+')\n",
    "print(pattern.match(title).group())"
   ]
  },
  {
   "cell_type": "code",
   "execution_count": null,
   "metadata": {},
   "outputs": [],
   "source": [
    "# (6) 匹配规范的html标签（前后对应，如：<html><h1>www.itcast.cn</h1></html>）\n",
    "print(re.match(r\"<(\\w*)><(\\w*)>.*?</\\2></\\1>\",'<html><h1>www.itcast.cn</h1></html>').group())"
   ]
  },
  {
   "cell_type": "code",
   "execution_count": null,
   "metadata": {},
   "outputs": [],
   "source": [
    "# (7) 将字符串中的数字替换成100\n",
    "s = \"张明考试考了 98 分\"\n",
    "res = re.sub(r\"\\d+\",'100',s)\n",
    "print(res)"
   ]
  },
  {
   "cell_type": "code",
   "execution_count": null,
   "metadata": {},
   "outputs": [],
   "source": []
  }
 ],
 "metadata": {
  "kernelspec": {
   "display_name": "Python 3",
   "language": "python",
   "name": "python3"
  },
  "language_info": {
   "codemirror_mode": {
    "name": "ipython",
    "version": 3
   },
   "file_extension": ".py",
   "mimetype": "text/x-python",
   "name": "python",
   "nbconvert_exporter": "python",
   "pygments_lexer": "ipython3",
   "version": "3.8.3"
  },
  "toc": {
   "base_numbering": 1,
   "nav_menu": {},
   "number_sections": true,
   "sideBar": true,
   "skip_h1_title": false,
   "title_cell": "Table of Contents",
   "title_sidebar": "Contents",
   "toc_cell": false,
   "toc_position": {},
   "toc_section_display": true,
   "toc_window_display": false
  }
 },
 "nbformat": 4,
 "nbformat_minor": 4
}
