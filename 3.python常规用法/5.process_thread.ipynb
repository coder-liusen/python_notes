{
 "cells": [
  {
   "cell_type": "markdown",
   "metadata": {},
   "source": [
    "进程是操作系统分配资源的最小单位；线程是CPU调度的最小单位；  \n",
    "多进程之间的资源是独立的，多线程之间的资源是共享的；  \n",
    "一个进程里可以有多个线程。  "
   ]
  },
  {
   "cell_type": "markdown",
   "metadata": {},
   "source": [
    "### 多进程\n",
    "python提供两种方法支持多进程：os模块的fork方法和multiprocessing模块，后者还提供进程通信机制。"
   ]
  },
  {
   "cell_type": "code",
   "execution_count": null,
   "metadata": {},
   "outputs": [],
   "source": [
    "# (1) os模块中封装了Unix/Linux系统调用fork()\n",
    "import os\n",
    "\n",
    "print('Process (%s) start...' % os.getpid())\n",
    "# Only works on Unix/Linux/Mac:\n",
    "pid = os.fork()\n",
    "if pid == 0:\n",
    "    print('I am child process (%s) and my parent is %s.' % (os.getpid(), os.getppid()))\n",
    "else:\n",
    "    print('I (%s) just created a child process (%s).' % (os.getpid(), pid))\n",
    "\n",
    "# 上面这段代码只能在Linux上运行，无法在windows上运行"
   ]
  },
  {
   "cell_type": "code",
   "execution_count": null,
   "metadata": {},
   "outputs": [],
   "source": [
    "# (2) multiprocessing是一个跨平台版本的多进程模块\n",
    "from multiprocessing import Process\n",
    "import os\n",
    "\n",
    "# 可以用multiprocessing.Process模块创建子进程\n",
    "# 定义子进程要调用的函数\n",
    "def run_proc(name):\n",
    "    print('Run child process %s (%s)...' % (name, os.getpid()))\n",
    "\n",
    "print('Parent process %s.' % os.getpid())\n",
    "p = Process(target=run_proc, args=('test',))\n",
    "print('Child process will start.')\n",
    "p.start()\n",
    "p.join()\n",
    "print('Child process end.')\n",
    "\n",
    "# 也可以用可以用multiprocessing.Pool批量创建子进程\n",
    "from multiprocessing import Pool\n",
    "import os, time, random\n",
    "\n",
    "def long_time_task(name):\n",
    "    print('Run task %s (%s)...' % (name, os.getpid()))\n",
    "    start = time.time()\n",
    "    time.sleep(random.random() * 3)\n",
    "    end = time.time()\n",
    "    print('Task %s runs %0.2f seconds.' % (name, (end - start)))\n",
    "\n",
    "if __name__=='__main__':\n",
    "    print('Parent process %s.' % os.getpid())\n",
    "    p = Pool(4)\n",
    "    for i in range(5):\n",
    "        p.apply_async(long_time_task, args=(i,))\n",
    "    print('Waiting for all subprocesses done...')\n",
    "    p.close()\n",
    "    p.join()\n",
    "    print('All subprocesses done.')"
   ]
  },
  {
   "cell_type": "code",
   "execution_count": null,
   "metadata": {},
   "outputs": [],
   "source": [
    "# (3) 有时候子进程并不是我们主进程创建的，而是外部进程。subprocess模块即可实现启动一个外部进程作为子进程\n",
    "import subprocess\n",
    "\n",
    "print('$ nslookup www.python.org')\n",
    "r = subprocess.call(['nslookup', 'www.python.org'])\n",
    "print('Exit code:', r)\n",
    "\n",
    "# 这段代码相当于在命令行中运行命令：nslookup www.python.org"
   ]
  },
  {
   "cell_type": "code",
   "execution_count": null,
   "metadata": {},
   "outputs": [],
   "source": [
    "# (4) 进程间通信：\n",
    "# multiprocessing模块封装了操作系统的进程通信机制，提供了Queue、Pipes等多种方式来交换数据。"
   ]
  },
  {
   "cell_type": "markdown",
   "metadata": {},
   "source": [
    "### 多线程\n",
    "一个进程可能包含多个线程，多个线程共享该进程中的全部系统资源，如虚拟地址空间、文件描述符、信号处理等。任何一个进程都至少有一个线程，称为主线程。  \n",
    "python的线程是真正的Posix Thread。  "
   ]
  },
  {
   "cell_type": "code",
   "execution_count": null,
   "metadata": {},
   "outputs": [],
   "source": [
    "# (1) python提供threading模块实现线程的创建和操作\n",
    "import time, threading\n",
    "\n",
    "# 新线程执行的代码:\n",
    "def loop():\n",
    "    print('thread %s is running...' % threading.current_thread().name)\n",
    "    n = 0\n",
    "    while n < 5:\n",
    "        n = n + 1\n",
    "        print('thread %s >>> %s' % (threading.current_thread().name, n))\n",
    "        time.sleep(1)\n",
    "    print('thread %s ended.' % threading.current_thread().name)\n",
    "\n",
    "print('thread %s is running...' % threading.current_thread().name)\n",
    "t = threading.Thread(target=loop, name='LoopThread')\n",
    "t.start()\n",
    "t.join()\n",
    "print('thread %s ended.' % threading.current_thread().name)"
   ]
  },
  {
   "cell_type": "code",
   "execution_count": null,
   "metadata": {},
   "outputs": [],
   "source": [
    "# (2) 线程锁：threading.Lock()\n",
    "balance = 0\n",
    "lock = threading.Lock()\n",
    "\n",
    "def run_thread(n):\n",
    "    for i in range(100000):\n",
    "        # 先要获取锁:\n",
    "        lock.acquire()\n",
    "        try:\n",
    "            # 放心地改吧:\n",
    "            change_it(n)\n",
    "        finally:\n",
    "            # 改完了一定要释放锁:\n",
    "            lock.release()"
   ]
  },
  {
   "cell_type": "code",
   "execution_count": null,
   "metadata": {},
   "outputs": [],
   "source": [
    "# (3) GIL锁（Global Interpreter Lock）：\n",
    "# python解释器执行代码时，有一个GIL锁，任何Python线程执行前，必须先获得GIL锁，然后，每执行100条字节码，解释器就自动释放GIL锁，\n",
    "# 让别的线程有机会执行。这个GIL全局锁实际上把所有线程的执行代码都给上了锁，\n",
    "# 所以，多线程在Python中只能交替执行，即使100个线程跑在100核CPU上，也只能用到1个核。\n",
    "# GIL锁能保证同一时刻只有一个线程在运行。\n",
    "# GIL锁只对python代码编译成的pyc字节码有效（因为毕竟它是python解释器的机制嘛），对于调用的外部函数（如C、C++扩展程序），不会使用GIL锁。"
   ]
  },
  {
   "cell_type": "markdown",
   "metadata": {},
   "source": [
    "### 协程\n",
    "协程是单线程的异步程序。  \n",
    "协程与一般的调用函数不同，一般的函数就是顺序执行，而协程在执行过程中，可以内部中断，转而执行别的子程序，在适当的时候再返回来接着执行（注意，在程序中中断，去执行其他子程序这一过程，不是函数调用，而是有点类似于CPU的中断）。  \n",
    "协程与多线程不同，协程比多线程运行效率高，因为协程的切换不是系统控制，而是由程序自身控制，没有线程切换的开销。  \n",
    "Python对协程的支持是通过生成器（generator）实现的。  "
   ]
  },
  {
   "cell_type": "markdown",
   "metadata": {},
   "source": [
    "### 面试题"
   ]
  },
  {
   "cell_type": "code",
   "execution_count": 2,
   "metadata": {},
   "outputs": [],
   "source": [
    "# (1) 简述GIL:\n",
    "# Python代码的执行由Python 虚拟机(也叫解释器主循环，CPython版本)来控制，Python 在设计之初就考虑到要在解释器的主循环中，同时只有一个线程在执行，即在任意时刻，只有一个线程在解释器中运行。对Python 虚拟机的访问由全局解释器锁（GIL）来控制，正是这个锁能保证同一时刻只有一个线程在运行。\n",
    "\n",
    "# 在多线程环境中，Python 虚拟机按以下方式执行：\n",
    "# （1）. 设置GIL\n",
    "# （2）. 切换到一个线程去运行\n",
    "# （3）. 运行：\n",
    "#     a. 指定数量的字节码指令，或者\n",
    "#     b. 线程主动让出控制（可以调用time.sleep(0)）\n",
    "# （4）. 把线程设置为睡眠状态\n",
    "# （5）. 解锁GIL\n",
    "# （6）. 再次重复以上所有步骤\n",
    "#  在调用外部代码（如C/C++扩展函数）的时候，GIL 将会被锁定，直到这个函数结束为止（由于在这期间没有Python 的字节码被运行，所以不会做线程切换）。"
   ]
  },
  {
   "cell_type": "code",
   "execution_count": 3,
   "metadata": {},
   "outputs": [],
   "source": [
    "# (2) 简述“乐观锁”和“悲观锁”"
   ]
  },
  {
   "cell_type": "code",
   "execution_count": null,
   "metadata": {},
   "outputs": [],
   "source": [
    "# (3) 简述协程"
   ]
  }
 ],
 "metadata": {
  "kernelspec": {
   "display_name": "Python 3",
   "language": "python",
   "name": "python3"
  },
  "language_info": {
   "codemirror_mode": {
    "name": "ipython",
    "version": 3
   },
   "file_extension": ".py",
   "mimetype": "text/x-python",
   "name": "python",
   "nbconvert_exporter": "python",
   "pygments_lexer": "ipython3",
   "version": "3.8.3"
  },
  "toc": {
   "base_numbering": 1,
   "nav_menu": {},
   "number_sections": true,
   "sideBar": true,
   "skip_h1_title": false,
   "title_cell": "Table of Contents",
   "title_sidebar": "Contents",
   "toc_cell": false,
   "toc_position": {},
   "toc_section_display": true,
   "toc_window_display": false
  }
 },
 "nbformat": 4,
 "nbformat_minor": 4
}
