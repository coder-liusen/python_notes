{
 "cells": [
  {
   "cell_type": "markdown",
   "metadata": {},
   "source": [
    "python内建函数"
   ]
  },
  {
   "cell_type": "code",
   "execution_count": null,
   "metadata": {},
   "outputs": [],
   "source": [
    "## 1.三元表达式\n",
    "a = 9\n",
    "c = 1 if a<0 else -1\n",
    "\n",
    "# 经常用于函数返回：\n",
    "def func(x,y):\n",
    "    return x if x>y else y\n",
    "\n",
    "# 也经常用于lambda表达式：\n",
    "myabs = lambda x : x if(x>0) else -x\n",
    "print(myabs(-3))"
   ]
  },
  {
   "cell_type": "code",
   "execution_count": null,
   "metadata": {},
   "outputs": [],
   "source": [
    "## 2.lambda（匿名函数）:python的关键字，其返回的是一个函数，而不是计算结果\n",
    "# 它定义并返回形式简单的函数，这样就不用使用def去定义一个完整的函数了\n",
    "f = lambda x:list(range(int(x)))\n",
    "print(f(12.5))\n",
    "# 它等价于：\n",
    "def f(x):\n",
    "    return list(range(int(x)))\n",
    "\n",
    "# lambda也可以有两个参数：\n",
    "f = lambda i,j:(i+1)*(j+1)\n",
    "# 它等价于：\n",
    "def f(i,j):\n",
    "    return (i+1)*(j+1)\n",
    "\n",
    "# 应用举例：将字符串列表中空字符串填充给定的值\n",
    "slst = [\"hh\" , \"ll\" , \"\" , \"\" , \"gg\",\"\"]\n",
    "slst_new = list(map(lambda x:\"填充值\" if x == \"\" else x,slst))\n",
    "print(slst_new)\n",
    "# 该例子是将map与lambda结合使用，lambda省去了函数定义过程，map省去了写循环的过程，从而精简代码"
   ]
  },
  {
   "cell_type": "code",
   "execution_count": null,
   "metadata": {},
   "outputs": [],
   "source": [
    "## 3.sum()：求和，可以作用于list或其他（元素为数值的）可迭代对象\n",
    "print(sum([1,2,3,5]))"
   ]
  },
  {
   "cell_type": "code",
   "execution_count": null,
   "metadata": {},
   "outputs": [],
   "source": [
    "## 34.round()：四舍五入取整或小数四舍五入截断输出\n",
    "a=1.3165\n",
    "print(round(a,2)) #保留2位小数"
   ]
  },
  {
   "cell_type": "code",
   "execution_count": null,
   "metadata": {},
   "outputs": [],
   "source": [
    "## 5.hash()：获取对象的哈希值\n",
    "s = 'kdfjlakds'\n",
    "print(hash(s))\n",
    "# 该函数只能获取不可变对象（数值、字符串、元组及其他不可变对象）的哈希值，可变对象（列表、集合、字典）不存在哈希值。\n",
    "# 哈希值的意义是，通过哈希值，python可以将大体量的数据映射成一个很小的数据，这样方便查找。"
   ]
  },
  {
   "cell_type": "code",
   "execution_count": null,
   "metadata": {},
   "outputs": [],
   "source": [
    "## 6.range()：\n",
    "# 用于生成一个等差数列的序列，返回一个可迭代对象（该可迭代对象不是列表，而是名为range的可迭代对象）\n",
    "# 只能用于生成整数序列，而numpy的arange()函数可以生成小数序列\n",
    "# 函数原型：range(start,stop[,step])\n",
    "print(list(range(3,18,2)))\n",
    "# 注意，range()返回的是一个Iterable（可迭代对象）而不是list类型，但可以用list()转成list类型"
   ]
  },
  {
   "cell_type": "code",
   "execution_count": null,
   "metadata": {},
   "outputs": [],
   "source": [
    "## 7.type()：返回变量（对象）或常量的类型（即“类”）\n",
    "print(type(5))\n",
    "s = 'abc'\n",
    "print(type(s))\n",
    "class A(object):\n",
    "    def __init__(self):\n",
    "        pass\n",
    "a = A()\n",
    "print(type(a))\n"
   ]
  },
  {
   "cell_type": "code",
   "execution_count": null,
   "metadata": {},
   "outputs": [],
   "source": [
    "## 8.id()：获取对象的“唯一标识符”（其意义类似于内存地址）\n",
    "s = 'abc'\n",
    "print(id(s))"
   ]
  },
  {
   "cell_type": "code",
   "execution_count": null,
   "metadata": {},
   "outputs": [],
   "source": [
    "## 9.dir()：\n",
    "# 不带参数时：返回当前状态下已定义的变量、函数、类\n",
    "# 带参数时：返回对象（即参数）中所有成员\n",
    "print(dir())\n",
    "print('\\n')\n",
    "print(dir(3.3))"
   ]
  },
  {
   "cell_type": "code",
   "execution_count": null,
   "metadata": {},
   "outputs": [],
   "source": [
    "## 10.any()与all()：\n",
    "# 二者参数都是可迭代对象，返回都是bool\n",
    "# any()：只要可迭代对象中有一个元素为真，则结果为真\n",
    "# all()：可迭代对象中所有元素为真，结果才为真\n",
    "lst = [3,2,-5,10,6,5,-8,0]\n",
    "print(any([i>0 for i in lst]))\n",
    "print(all([i>0 for i in lst]))"
   ]
  },
  {
   "cell_type": "code",
   "execution_count": null,
   "metadata": {},
   "outputs": [],
   "source": [
    "## 11.eval()：\n",
    "# 用于执行一个字符串表达式，并返回表达式的值\n",
    "print(eval('3*7'))\n",
    "# eval不仅能计算上述简单的算式，它实际上能计算python支持的所有的表达式，如：\n",
    "s = \"{'a':1,'b':2}\"\n",
    "print(eval(s)) # 返回字符串中的字典"
   ]
  },
  {
   "cell_type": "code",
   "execution_count": null,
   "metadata": {},
   "outputs": [],
   "source": [
    "## 12.input()：接收一个标准输入数据，返回为str类型。\n",
    "a = input(\"input:\")"
   ]
  },
  {
   "cell_type": "code",
   "execution_count": null,
   "metadata": {},
   "outputs": [],
   "source": [
    "## 13.zip()：\n",
    "# 函数原型：zip(iterable1,iterable2,...)\n",
    "# zip() 函数将可迭代的对象作为参数，将对象中对应的元素打包成一个个元组，然后返回由这些元组组成的一个序列。\n",
    "# 实际上，zip函数并没有创建新的序列，而是构建了一个基于原始数据的迭代器。这样做的好处是节约内存。\n",
    "# python中很多其他函数，比如map、filter、enumerate等，也使用同样的策略。\n",
    "# 我们可以使用 list() 转换来将zip迭代器输出成列表。\n",
    "# 如果各个迭代器的元素个数不一致，则返回列表长度与最短的对象相同，利用 * 号操作符，可以将元组解压为列表。\n",
    "a = [1,2,3]\n",
    "b = [4,5,6]\n",
    "c = ['x','y','z']\n",
    "zz = zip(a,b,c) #将a,b,c三个列表打包成zz\n",
    "print(zz)\n",
    "lst = list(zz) #将zz转换成列表（该列表的元素是元组）\n",
    "print(lst)\n",
    "zz = zip(a,b,c)\n",
    "a1,b1,c1 = zip(*zz) #将zz解压\n",
    "print(a1,b1,c1)\n",
    "\n",
    "# 注意，zip(*zz)解压zz的用法中，zz不必是用zip函数压缩而得的对象，而是只需要是与zip对象形式相同的对象即可，如：\n",
    "a = [['a',1],['b',2],['c',3]]\n",
    "a1,a2 = zip(*a)\n",
    "print(a1,a2)\n",
    "\n",
    "# 当打包的可迭代对象个数为2时，还可以用dict()将打包完的zip对象转成字典\n",
    "zz = zip([1,2,3],('a','b','c'))\n",
    "dct =dict(zz)\n",
    "print(dct)\n",
    "\n",
    "## 测验：将元组(\"a\",\"b\")和元组(1,2)，变为字典{\"a\":1,\"b\":2}\n",
    "print(dict(zip(['a','b'],[1,2])))"
   ]
  },
  {
   "cell_type": "code",
   "execution_count": null,
   "metadata": {},
   "outputs": [],
   "source": [
    "## 14.map()：根据提供的函数对指定的序列作映射\n",
    "# 函数原型：map(fn , iterable)\n",
    "lst = [1,3,5,8]\n",
    "print(list(map(lambda x:x**2,lst)))"
   ]
  },
  {
   "cell_type": "code",
   "execution_count": null,
   "metadata": {},
   "outputs": [],
   "source": [
    "## 15.filter()：用于过滤序列，返回由符合条件的元素构成的新序列（过滤掉不符合条件的元素）\n",
    "# 函数原型:filter(fn,iterable)\n",
    "# 第一个参数fn为条件函数，第二个参数iterable为待过滤的可迭代对象\n",
    "print(list(filter(lambda x:x%2==1,range(1,20))))\n",
    "# 简单的filter也可以通过列表推导式来实现\n",
    "print([i for i in range(1,20) if i%2])"
   ]
  },
  {
   "cell_type": "code",
   "execution_count": null,
   "metadata": {},
   "outputs": [],
   "source": [
    "## 16.reduce()：接收一个函数和一个可迭代对象，按照函数的计算方法，对可迭代对象的元素依次累计地执行该函数，返回一个累计的计算的结果。\n",
    "# python3中，reduce()函数不作为内置函数，而是被移到functools模块中\n",
    "\n",
    "from functools import reduce\n",
    "lst = [1,2,3,4,5]\n",
    "print(reduce(lambda x,y:x+y,lst)) #累加\n",
    "print(reduce(lambda x,y:x*y,lst)) #累乘"
   ]
  },
  {
   "cell_type": "code",
   "execution_count": null,
   "metadata": {},
   "outputs": [],
   "source": [
    "## 17.enumerate()：将一个序列 [ele1,ele2,ele3,...] 转换成 [(0,ele1),(1,ele2),(3,ele3),...]\n",
    "print(list(enumerate(['aa','bb','cc'])))"
   ]
  },
  {
   "cell_type": "code",
   "execution_count": null,
   "metadata": {},
   "outputs": [],
   "source": [
    "## 18.super()：用于在一个类中调用其父类\n",
    "class A:\n",
    "     def add(self, x):\n",
    "         y = x+1\n",
    "         return y\n",
    "class B(A):\n",
    "    def add(self, x):\n",
    "        return super().add(x)\n",
    "b = B()\n",
    "print(b.add(2))"
   ]
  },
  {
   "cell_type": "code",
   "execution_count": null,
   "metadata": {},
   "outputs": [],
   "source": [
    "## 19.help()：返回帮助文档和说明参数"
   ]
  }
 ],
 "metadata": {
  "kernelspec": {
   "display_name": "Python 3",
   "language": "python",
   "name": "python3"
  },
  "language_info": {
   "codemirror_mode": {
    "name": "ipython",
    "version": 3
   },
   "file_extension": ".py",
   "mimetype": "text/x-python",
   "name": "python",
   "nbconvert_exporter": "python",
   "pygments_lexer": "ipython3",
   "version": "3.8.3"
  },
  "toc": {
   "base_numbering": 1,
   "nav_menu": {},
   "number_sections": true,
   "sideBar": true,
   "skip_h1_title": false,
   "title_cell": "Table of Contents",
   "title_sidebar": "Contents",
   "toc_cell": false,
   "toc_position": {},
   "toc_section_display": true,
   "toc_window_display": false
  }
 },
 "nbformat": 4,
 "nbformat_minor": 4
}
