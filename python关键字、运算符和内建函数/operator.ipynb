{
 "cells": [
  {
   "cell_type": "markdown",
   "metadata": {},
   "source": [
    "python运算符有7种：  \n",
    "(1)算数运算符  \n",
    "(2)关系（比较）运算符  \n",
    "(3)赋值运算符  \n",
    "(4)逻辑运算符  \n",
    "(5)位运算符  \n",
    "(6)成员运算符（in、not in）  \n",
    "(7)身份运算符（is、is not）"
   ]
  },
  {
   "cell_type": "code",
   "execution_count": 5,
   "metadata": {},
   "outputs": [
    {
     "name": "stdout",
     "output_type": "stream",
     "text": [
      "11.313708498984761\n",
      "37.0\n"
     ]
    }
   ],
   "source": [
    "## 1.算数运算符\n",
    "#  +,-,*,/,%,**,//\n",
    "print(2**3.5)\n",
    "print(188.5//5)"
   ]
  },
  {
   "cell_type": "code",
   "execution_count": null,
   "metadata": {},
   "outputs": [],
   "source": [
    "## 7.身份运算符\n",
    "\n",
    "# 注意：‘is’与‘==’的区别：‘is’判断id是否相同，‘==’判断值是否相同"
   ]
  }
 ],
 "metadata": {
  "kernelspec": {
   "display_name": "Python 3",
   "language": "python",
   "name": "python3"
  },
  "language_info": {
   "codemirror_mode": {
    "name": "ipython",
    "version": 3
   },
   "file_extension": ".py",
   "mimetype": "text/x-python",
   "name": "python",
   "nbconvert_exporter": "python",
   "pygments_lexer": "ipython3",
   "version": "3.8.3"
  },
  "toc": {
   "base_numbering": 1,
   "nav_menu": {},
   "number_sections": true,
   "sideBar": true,
   "skip_h1_title": false,
   "title_cell": "Table of Contents",
   "title_sidebar": "Contents",
   "toc_cell": false,
   "toc_position": {},
   "toc_section_display": true,
   "toc_window_display": false
  }
 },
 "nbformat": 4,
 "nbformat_minor": 4
}
