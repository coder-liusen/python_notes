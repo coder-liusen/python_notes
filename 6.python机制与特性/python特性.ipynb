{
 "cells": [
  {
   "cell_type": "markdown",
   "metadata": {},
   "source": [
    "### python的拷贝"
   ]
  },
  {
   "cell_type": "code",
   "execution_count": null,
   "metadata": {},
   "outputs": [],
   "source": [
    "## copy库\n",
    "import copy\n",
    "lst = [1,2,5]\n",
    "a = copy.copy(lst) #浅拷贝\n",
    "b = copy.deepcopy(lst) #深拷贝"
   ]
  },
  {
   "cell_type": "markdown",
   "metadata": {},
   "source": [
    "copy（浅拷贝）和deepcopy（深拷贝）的区别：  \n",
    "从字面上来理解，“浅”和“深”表示的是拷贝对象与源对象独立程度的深浅。简单地说，深拷贝使源对象和拷贝对象完全独立；浅拷贝不一定使源对象和拷贝对象完全独立。具体的，分可变对象和不可变对象两种情况讨论：  \n",
    "（1）对于不可变对象，深拷贝和浅拷贝结果一样，源对象和拷贝对象地址相同；  \n",
    "（2）“拷贝”主要针对可变对象而言，对于可变对象，深拷贝对象与源对象完全独立；浅拷贝则又分两种情况：若源对象有复杂子对象（如列表中某元素为列表），则浅拷贝对象的复杂子对象的改变会影响源对象中的相应子对象；若源对象无复杂子对象，浅拷贝对象与源对象独立，地址不同。  \n",
    "  \n",
    "（另外一种理解：浅拷贝是只仅仅拷贝数据集合的第一层数据，深拷贝指的是拷贝数据集合的所有层。所以对于只有一层的数据几个来说深浅拷贝的意义是一样的，如字典、元组、集合、列表等。对于数字和字符串而言，无意义，因其永远指向一个内存地址）"
   ]
  },
  {
   "cell_type": "markdown",
   "metadata": {},
   "source": [
    "### python中的魔法方法：\n",
    "\n",
    "魔法方法是针对类而言的。  \n",
    "首先澄清“方法”和普通函数的区别：前者也是函数，但是是类的成员函数，后者相对前者而言，一般是指在类外定义的函数。  \n",
    "python中提供一些特殊方法，它们都具有\\_\\_func\\_\\_()的形式，当用户在自己创建的类中复写了某个这种方法时，该类会在对应的时机自动调用该方法，这些方法称为魔法方法。  \n",
    "比如，在一个类中实现了\\_\\_len\\_\\_()，该类的对象就可以被python的内建函数len()作为参数，而返回用户在\\_\\_len\\_\\_()自己定义的值。  \n",
    "常见的魔法方法：  \n",
    "（1）\\_\\_new\\_\\_  \n",
    "（2）\\_\\_init\\_\\_  \n",
    "（3）\\_\\_del\\_\\_  \n",
    "（4）\\_\\_call\\_\\_  \n",
    "（5）\\_\\_len\\_\\_  \n",
    "（6）\\_\\_repr\\_\\_  \n"
   ]
  },
  {
   "cell_type": "markdown",
   "metadata": {},
   "source": [
    "### python中不定数量变量\n",
    "\n",
    "\\*和\\*\\*可在定义变量、函数传参等场合使用，表示该变量接收不定数量参数。\\*a 表示任意多个参数，它本质是一个tuple；\\*\\*a 表示任意多个键值对参数，它本质是一个dict。  "
   ]
  },
  {
   "cell_type": "markdown",
   "metadata": {},
   "source": [
    "下面看几个例子  "
   ]
  },
  {
   "cell_type": "code",
   "execution_count": null,
   "metadata": {},
   "outputs": [],
   "source": [
    "# (1) 序列解构：  \n",
    "a,b,*c = 0,1,2,3,4,5 "
   ]
  },
  {
   "cell_type": "markdown",
   "metadata": {},
   "source": [
    "在这个例子中，\\*c接收了序列中前面两个元素后面的所有元素。因此结果为：a = 0 , b = 1 , c = [2,3,4,5] "
   ]
  },
  {
   "cell_type": "code",
   "execution_count": null,
   "metadata": {},
   "outputs": [],
   "source": [
    "# (2) 函数形参：\n",
    "def fun(*args, **kwargs):\n",
    "    print('args=', args)\n",
    "    print('kwargs=', kwargs)\n",
    "    \n",
    "# test\n",
    "fun(1, 2, 3, 4, A='a', B='b', C='c', D='d') "
   ]
  },
  {
   "cell_type": "markdown",
   "metadata": {},
   "source": [
    "在此例子中，函数接收不定量的值参数和不定量的键值对参数，因此接收的结果为：args将前面几个参数封装成列表，kwargs将后面几个键值对参数封装成字典。  \n",
    "有人不禁要问：为什么需要两个不定长参数呢？只用\\*args一个参数来接收所有函数形参不行吗？答案是不行，这是因为，python中调用函数时，支持按变量名传参，如上例所示，其中A，B，C，D都是按照变量名传参的，而前面几个参数都是按位置传参的。python中规定，按变量名传递的参数，它们的相对位置可以与形参中的不一致，但是必须都要位于按位置传递参数的后面。为了支持python的这一特性，使用不定数量形参时，需要\\*args和\\*\\*kwargs两个参数，前者接收不定数量的按位置传递的参数，后者接收按变量名传递的参数。若只用一个\\*args，则无法接收按变量名传递的参数。另外，\\*\\*kwagrs要放在\\*args后面，否则会报错。\n"
   ]
  },
  {
   "cell_type": "code",
   "execution_count": null,
   "metadata": {},
   "outputs": [],
   "source": [
    "# (3) 函数实参：\n",
    "def fun(data1, data2, data3):\n",
    "    print(\"data1: \", data1)\n",
    "    print(\"data2: \", data2)\n",
    "    print(\"data3: \", data3)\n",
    "    print('\\n')\n",
    "\n",
    "# test-传参方式一\n",
    "args = (\"one\", 2, 3)\n",
    "fun(*args)\n",
    "\n",
    "# test-传参方式二\n",
    "kwargs = {\"data3\": \"one\", \"data2\": 2, \"data1\": 3}\n",
    "fun(**kwargs)"
   ]
  },
  {
   "cell_type": "markdown",
   "metadata": {},
   "source": [
    "在此例子中，定义了\\*args和\\*\\*kwargs，它们将参数封装，然后传给函数。"
   ]
  },
  {
   "cell_type": "markdown",
   "metadata": {},
   "source": [
    "### python变量命名规则\n",
    "\n",
    "(1) 只能以下划线或者 A-Z/a-z 中的字母开头；  \n",
    "(2) 其余部分只能使用 A-Z/a-z/0-9；  \n",
    "(3) Python 标识符区分大小写；  \n",
    "(4) 关键字不能作为标识符。  "
   ]
  },
  {
   "cell_type": "code",
   "execution_count": 7,
   "metadata": {},
   "outputs": [
    {
     "name": "stdout",
     "output_type": "stream",
     "text": [
      "4\n"
     ]
    }
   ],
   "source": [
    "# 注意，python变量命名中有一个约定：“_”即一个单下划线可以被声明为一个变量，但这个变量一般约定为不使用之，如：\n",
    "lst = [1,(2,3,4),5]\n",
    "_,(*_,val),*_ = lst\n",
    "print(val)"
   ]
  },
  {
   "cell_type": "markdown",
   "metadata": {},
   "source": [
    "### python2与python3的区别\n",
    "\n",
    "(1) python3 使用 print 必须要以小括号包裹打印内容，比如 print('hi')；  \n",
    "python2 既可以使用带小括号的方式，也可以使用一个空格来分隔打印内容，比如 print 'hi'  \n",
    "(2) python2 range(1,10)返回列表；python3中返回可迭代对象  \n",
    "(3) python2中使用ascii编码；python3中使用utf-8编码  \n",
    "(4) python2中unicode表示字符串序列，str表示字节序列；python3中str表示字符串序列，byte表示字节序列  \n",
    "(5) python2中为正常显示中文，需引入coding声明；python3中不需要  \n",
    "(6) python2中是raw_input()函数；python3中是input()函数  "
   ]
  },
  {
   "cell_type": "markdown",
   "metadata": {},
   "source": [
    "### 工厂函数\n",
    "\n",
    "狭义上讲，工厂函数是python中的一组内建函数，这组函数都是类（同时也是对象，因为在python中类也是对象），当调用它们时，实际是创建了一个它的实例。  \n",
    "python中的工厂函数包括：int()、float()、str()、list()、tuple()、set()等。\n",
    "可以看出，上面列举的这些工厂函数就是实现类型强制转换的函数。在《python基础》一章的《1.python内建数据类型》一节中，我们提到了python中类型强制转换的方法，其本质就是工厂函数。当然，工厂函数不仅包括这些用于类型强制转换的函数，还包括其他函数，比如super()、property()等。  \n",
    "  \n",
    "https://www.cnblogs.com/hu-yewen/p/5641567.html"
   ]
  },
  {
   "cell_type": "markdown",
   "metadata": {},
   "source": [
    "### 闭包\n",
    "闭包：在外层函数中定义一个内层函数，内层函数引用外层函数中的局部变量，并且内层函数可以在其定义环境外（即外层函数之外）被执行（这是通过外层函数返回内层函数的引用实现的）。这时这个内层函数就称之为闭包。\n",
    "python中的装饰器就是一个闭包的典型例子。  \n",
    "  \n",
    "https://baijiahao.baidu.com/s?id=1630245737302987802&wfr=spider&for=pc"
   ]
  },
  {
   "cell_type": "markdown",
   "metadata": {},
   "source": [
    "### 元类：（metaclass）\n",
    "python中一切都是对象，类也是对象——是由“元类（metaclass）”创建的对象。元类是万类之王，由元类创建普通类，然后由普通类创建实例。\n",
    "python中，object是type（type是一个可调用对象，也是一个类）的父类，它们都属于元类，因为它们都能创建类。"
   ]
  },
  {
   "cell_type": "markdown",
   "metadata": {},
   "source": [
    "### 其他\n",
    "\n",
    "(1) 命名空间和作用域：  \n",
    "https://www.runoob.com/python3/python3-namespace-scope.html"
   ]
  },
  {
   "cell_type": "code",
   "execution_count": null,
   "metadata": {},
   "outputs": [],
   "source": []
  }
 ],
 "metadata": {
  "kernelspec": {
   "display_name": "Python 3",
   "language": "python",
   "name": "python3"
  },
  "language_info": {
   "codemirror_mode": {
    "name": "ipython",
    "version": 3
   },
   "file_extension": ".py",
   "mimetype": "text/x-python",
   "name": "python",
   "nbconvert_exporter": "python",
   "pygments_lexer": "ipython3",
   "version": "3.8.3"
  },
  "toc": {
   "base_numbering": 1,
   "nav_menu": {},
   "number_sections": true,
   "sideBar": true,
   "skip_h1_title": false,
   "title_cell": "Table of Contents",
   "title_sidebar": "Contents",
   "toc_cell": false,
   "toc_position": {},
   "toc_section_display": true,
   "toc_window_display": false
  }
 },
 "nbformat": 4,
 "nbformat_minor": 4
}
