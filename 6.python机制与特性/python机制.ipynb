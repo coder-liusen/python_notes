{
 "cells": [
  {
   "cell_type": "markdown",
   "metadata": {},
   "source": [
    "### python与C++的区别  \n",
    "\n",
    "python是强类型语言；python是动态类型语言；python是动态语言；python自动管理内存；python有大量的内置方法；python有大量标准库和第三方库，导入和使用方便；python可以创建虚拟开发环境。 \n",
    "\n",
    "注：  \n",
    "（1）强类型语言 vs 弱类型语言：\n",
    "强类型语言是变量和常量的类型转换需要强制转换（或者说显式转换）的语言；弱类型语言是变量类型可以隐式地转换的语言。\n",
    "比如：python中，不同类型的变量之间的转换必须显式地转换，因此python属于强类型语言；C++中，不同的类型的变量之间转换可以隐式地完成（如可将float型变量赋给int 型变量，int型变量和字符型变量可以相加等），因此属于弱类型语言。\n",
    "\n",
    "（2）动态类型语言 vs 静态类型语言：\n",
    "动态类型语言是指变量不必被指定类型，而是在程序运行时，动态地识别变量的类型；静态类型语言是在声明变量时。必须指定变量的类型。\n",
    "如python、matlab就是动态类型语言，它们的变量不必指定类型，程序运行时，解释器根据其最开始赋值（即初始化）时的值来判断其类型；而C++属于静态类型语言。\n",
    "\n",
    "（3）动态语言 vs 静态语言：\n",
    "注意，动态语言与静态语言之分，跟动态类型原因与静态类型语言之分是不同的。\n",
    "动态语言是指类或者对象可以在程序运行过程中动态地改变（即修改、增加或者删除该对象的某个方法或属性）；静态语言是指类或者对象在定义时就固定了，也就是在编译时已经确定，在运行时不能改动的。\n",
    "python属于动态语言，C++属于静态语言。"
   ]
  },
  {
   "cell_type": "markdown",
   "metadata": {},
   "source": [
    "### python的引用传值\n",
    "\n",
    "python是传递值还是传递引用？\n",
    "所谓“传递”，包括赋值（=）、函数返回值和函数传参三种情况。\n",
    "python中不存在传值调用，一切传递的都是对象的引用，也可以认为是传址调用，类似于C++的传递指针。但是跟C++传递指针不完全相同，主要是python中对象分为可变数据类型和不可变数据类型，而C++并没有这种区分。python中不可变类型包括数值、字符串、元组，在传递（赋值、函数返回、传参）过程中，源对象和传递对象是完全独立的，改变传递对象的值不会影响源对象的值；可变类型包括列表、集合、字典，这些数据类型的对象在传递（赋值、函数返回、传参）过程中，传递对象和源对象都是关联的，改变传递对象的值会影响源对象的值。\n",
    "\n",
    "由于实际中，有对可变对象传递时保持传递对象和源对象独立的需求，因此copy模块提供了一种特殊的传递方式，可以使传递对象和源对象解除关联，其中浅拷贝使传递对象和源对象“浅独立”，深拷贝使传递对象和源对象“深独立”。"
   ]
  },
  {
   "cell_type": "markdown",
   "metadata": {},
   "source": [
    "### python的内存管理\n",
    "\n",
    "python是一种动态类型的语言，即它在运行时自动判断对象的类型（而不用用户声明），并为其分配内存；同样，python也自动回收变量的内存空间，而不用用户自己处理。\n",
    "\n",
    "python的内存管理使用“内存池”的概念。基本的策略是：“引用计数”机制为主，“标记-清除”机制和“分代收集”机制为辅。\n",
    "内存池：python预先开辟一些小块内存，有小块对象需要时分配给它，该对象销毁后收回，这样可以避免频繁的开辟和释放内存浪费时间以及产生碎片。\n",
    "引用计数：python中的一切都是对象，每个对象占用内存，它们的核心是一个结构体：PyObject，该结构体中有一个int变量：ob_refcnt，就是引用计数，当该对象有一个新的引用时，引用计数+1，当引用它的对象被删除时，该对象的引用计数就-1，当引用计数=0时，该对象生命就结束了。"
   ]
  },
  {
   "cell_type": "markdown",
   "metadata": {},
   "source": [
    "### python的GIL锁\n",
    "\n",
    "Python代码的执行由Python 虚拟机(也叫解释器主循环，CPython版本)来控制，Python 在设计之初就考虑到要在解释器的主循环中，同时只有一个线程在执行，即在任意时刻，只有一个线程在解释器中运行。对Python 虚拟机的访问由全局解释器锁（GIL）来控制，正是这个锁能保证同一时刻只有一个线程在运行。\n",
    "\n",
    "在多线程环境中，Python 虚拟机按以下方式执行：  \n",
    "（1）设置GIL  \n",
    "（2）切换到一个线程去运行  \n",
    "（3）运行：  a. 指定数量的字节码指令，或者 b. 线程主动让出控制（可以调用time.sleep(0)）  \n",
    "（4）把线程设置为睡眠状态  \n",
    "（5）解锁GIL  \n",
    "（6）再次重复以上所有步骤  \n",
    " 在调用外部代码（如C/C++扩展函数）的时候，GIL 将会被锁定，直到这个函数结束为止（由于在这期间没有Python 的字节码被运行，所以不会做线程切换）。"
   ]
  },
  {
   "cell_type": "markdown",
   "metadata": {},
   "source": [
    "### python中的猴子补丁\n",
    "\n",
    "猴子补丁指的是在运行时动态改变类或模块。当用户使用的类或模块的某个功能（属性或者方法）不符合用户当前的任务时，用户可以在使用该类或模块时动态地改变该功能，而不必去修改该类或者模块的定义。  \n",
    "猴子补丁能实现是因为python是一种动态语言，能在使用时（已经定义完类了）动态地改变类。"
   ]
  },
  {
   "cell_type": "markdown",
   "metadata": {},
   "source": [
    "### python的“模块”\n",
    "\n",
    "python是一种解释型语言，python的程序由python解释器执行。\n",
    "python中一个.py文件就是一个“模块”,python程序以模块为组织形式，每个模块可以被其他程序导入并使用。\n",
    "python虽然是解释型语言，但它也需要编译。.py文件首先被编译成二进制的.pyc字节码，然后在python解释器上执行。\n",
    "  \n",
    "注：  \n",
    "字节码和机器码的区别：\n",
    "机器码的概念很简单，就是能在CPU上直接运行的代码；字节码是一种“中间码”，不能在CPU上直接运行，而是要在虚拟机上运行（如Java虚拟机、Python虚拟机）。字节码存在的理由是，为了跨平台（在不同架构的CPU上都能运行）。"
   ]
  },
  {
   "cell_type": "markdown",
   "metadata": {},
   "source": [
    "### python中的编码：\n",
    "\n",
    "python3使用utf-8编码。\n",
    "\n",
    "注：  \n",
    "utf-8与unicode的区别：  \n",
    "utf-8是一种字符编码规则（常见的字符编码规则有：ascii、utf-8、gbk）；而unicode是一种字符集；   \n",
    "utf-8作为一种字符编码规则，它使用1-4个字节表示一个字符，根据不同的字符而变化字节长度；  \n",
    "unicode作为一种字符集，它为世界上每一个字符分配一个唯一ID；  \n",
    "可以这样理解：utf-8是unicode的一种实现方式。"
   ]
  },
  {
   "cell_type": "markdown",
   "metadata": {},
   "source": [
    "### python的“反射”（又称“自省”）\n",
    "\n",
    "python中的“反射”是指通过以下四种方法来操作对象的属性：   "
   ]
  },
  {
   "cell_type": "code",
   "execution_count": null,
   "metadata": {},
   "outputs": [],
   "source": [
    "hasattr(obj, attrname) # 判断对象obj是否有属性attrname  \n",
    "getattr(obj, attrname [, default]) # 获取对象obj的属性attrname  \n",
    "setattr(obj, attrname, value) # 设置对象obj的属性attrname  \n",
    "delattr(obj, attrname) # 删除对象obj的属性attrname "
   ]
  },
  {
   "cell_type": "markdown",
   "metadata": {},
   "source": [
    "注意，其中attrname是字符串（属性的名字）。"
   ]
  },
  {
   "cell_type": "code",
   "execution_count": null,
   "metadata": {},
   "outputs": [],
   "source": []
  }
 ],
 "metadata": {
  "kernelspec": {
   "display_name": "Python 3",
   "language": "python",
   "name": "python3"
  },
  "language_info": {
   "codemirror_mode": {
    "name": "ipython",
    "version": 3
   },
   "file_extension": ".py",
   "mimetype": "text/x-python",
   "name": "python",
   "nbconvert_exporter": "python",
   "pygments_lexer": "ipython3",
   "version": "3.8.3"
  },
  "toc": {
   "base_numbering": 1,
   "nav_menu": {},
   "number_sections": true,
   "sideBar": true,
   "skip_h1_title": false,
   "title_cell": "Table of Contents",
   "title_sidebar": "Contents",
   "toc_cell": false,
   "toc_position": {},
   "toc_section_display": true,
   "toc_window_display": false
  }
 },
 "nbformat": 4,
 "nbformat_minor": 4
}
