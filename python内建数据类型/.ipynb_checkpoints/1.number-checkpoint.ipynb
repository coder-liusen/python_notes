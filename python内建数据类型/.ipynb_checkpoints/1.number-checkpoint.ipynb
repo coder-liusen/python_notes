{
 "cells": [
  {
   "cell_type": "markdown",
   "metadata": {},
   "source": [
    "数值类型包括int、float、complex（a+bj）、bool（True、False）。"
   ]
  },
  {
   "cell_type": "code",
   "execution_count": null,
   "metadata": {},
   "outputs": [],
   "source": [
    "## 1.使用不同进制的数字\n",
    "# (1)二进制转十进制：\n",
    "print(0b0100)\n",
    "print(0B0100)\n",
    "print(int('100',base=2))\n",
    "# 十进制转二进制：\n",
    "print(bin(4))\n",
    "# (2)八进制转十进制：\n",
    "print(0o1352)\n",
    "print(0O1352)\n",
    "print(int('1352',base=8))\n",
    "# 十进制转八进制：\n",
    "print(oct(746))\n",
    "# (3)十六进制转十进制：\n",
    "print(0x61BD)\n",
    "print(0X61BD)\n",
    "print(int('61BD',base=16))\n",
    "# 十进制转十六进制：\n",
    "print(hex(25021))"
   ]
  },
  {
   "cell_type": "code",
   "execution_count": null,
   "metadata": {},
   "outputs": [],
   "source": [
    "## 2.数值类型之间的转换\n",
    "print(int(12.35))\n",
    "print(float(15))\n",
    "print(complex(22))"
   ]
  },
  {
   "cell_type": "code",
   "execution_count": 8,
   "metadata": {
    "code_folding": []
   },
   "outputs": [
    {
     "name": "stdout",
     "output_type": "stream",
     "text": [
      "number is a logic object\n",
      "str is a logic object\n",
      "tuple is a logic object\n",
      "dict is a logic object\n",
      "[] is a logic object\n",
      "None is a logic object\n"
     ]
    }
   ],
   "source": [
    "## 3.可判断真假的对象\n",
    "# bool类型是python中数值类型的一种，它可以取True、False两个值。\n",
    "# 但是python中可判断“真”、“假”的数据类型，不是只有bool。其它如0值、空字符串、空列表、空元组、空字典、None等也会判断为假，反之则真。\n",
    "# 那么什么叫可判断真假呢？把它直接当作if语句的参数的话，能执行if下的代码块，则是真，否则是假。\n",
    "# 可判断真假的对象也可以作用于逻辑运算符，如not等。\n",
    "if(not 0):\n",
    "    print('number is a logic object')\n",
    "if(not ''):\n",
    "    print('str is a logic object')\n",
    "if(not ()):\n",
    "    print('tuple is a logic object')\n",
    "if(not {}):\n",
    "    print('dict is a logic object')\n",
    "if(not []):\n",
    "    print('[] is a logic object')\n",
    "if(not None):\n",
    "    print('None is a logic object')"
   ]
  },
  {
   "cell_type": "code",
   "execution_count": null,
   "metadata": {},
   "outputs": [],
   "source": []
  }
 ],
 "metadata": {
  "kernelspec": {
   "display_name": "Python 3",
   "language": "python",
   "name": "python3"
  },
  "language_info": {
   "codemirror_mode": {
    "name": "ipython",
    "version": 3
   },
   "file_extension": ".py",
   "mimetype": "text/x-python",
   "name": "python",
   "nbconvert_exporter": "python",
   "pygments_lexer": "ipython3",
   "version": "3.8.3"
  },
  "toc": {
   "base_numbering": 1,
   "nav_menu": {},
   "number_sections": true,
   "sideBar": true,
   "skip_h1_title": false,
   "title_cell": "Table of Contents",
   "title_sidebar": "Contents",
   "toc_cell": false,
   "toc_position": {},
   "toc_section_display": true,
   "toc_window_display": false
  }
 },
 "nbformat": 4,
 "nbformat_minor": 4
}
