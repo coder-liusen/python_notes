{
 "cells": [
  {
   "cell_type": "markdown",
   "metadata": {},
   "source": [
    "集合（set）是可变对象（也有不可变的集合：frozenset，二者的用法基本相同）。  \n",
    "集合是一个无序不重复元素序列。  \n",
    "集合的元素不能是可变对象。  \n",
    "由于集合无序，所以不能像列表、元组那样，使用下标或者切片方法访问其元素。  "
   ]
  },
  {
   "cell_type": "code",
   "execution_count": null,
   "metadata": {},
   "outputs": [],
   "source": [
    "## 1.创建集合\n",
    "set1 = {1,2,3} # 若给定的元素有重复，集合会自动去重\n",
    "print(set1)\n",
    "# 创建新集合\n",
    "set1 = set()"
   ]
  },
  {
   "cell_type": "markdown",
   "metadata": {},
   "source": [
    "注意，若用“x = {}”语句，则是新建一个空字典"
   ]
  },
  {
   "cell_type": "code",
   "execution_count": null,
   "metadata": {},
   "outputs": [],
   "source": [
    "## 2.其他数据类型转成集合\n",
    "# (1) 列表转集合：会去重\n",
    "lst = [3,2,5,1,2,3,3]\n",
    "print(set(lst))\n",
    "# (2) 字符串转集合：返回一个字符的集合，会去重\n",
    "s = 'hello'\n",
    "print(set(s))"
   ]
  },
  {
   "cell_type": "code",
   "execution_count": null,
   "metadata": {},
   "outputs": [],
   "source": [
    "## 3.判断一个元素是否位于集合中：用in，与列表、元组方法相同\n",
    "set1 = {1,3,'a','b',5}\n",
    "print('a' in set1)\n"
   ]
  },
  {
   "cell_type": "code",
   "execution_count": null,
   "metadata": {},
   "outputs": [],
   "source": [
    "## 4.集合推导式\n",
    "# 与列表和元组一样，集合也有推导式\n",
    "print({x for x in 'abracadabra' if x not in 'abc'})"
   ]
  },
  {
   "cell_type": "code",
   "execution_count": null,
   "metadata": {},
   "outputs": [],
   "source": [
    "## 5.集合比较大小：\n",
    "#“大于”、“小于”的意义分别是“包含”、“包含于”。\n",
    "set1 = {1,2}\n",
    "set2 = {2,1,3}\n",
    "print(set1==set2)\n",
    "print(set1<set2)\n",
    "print(set1>set2)\n",
    "print(set1<=set2)\n",
    "print(set1>=set2)"
   ]
  },
  {
   "cell_type": "code",
   "execution_count": null,
   "metadata": {},
   "outputs": [],
   "source": [
    "## 6.集合的交、并、差\n",
    "set1 = {1,3,5}\n",
    "set2 = {1,2,3}\n",
    "# (1)交集\n",
    "print(set1&set2) # 方法一（操作符）\n",
    "print(set1.intersection(set2)) # 方法二（内建函数）\n",
    "print(set((i for i in set1 if i in set2))) # 方法三（集合推导式）\n",
    "# (2)并集\n",
    "print(set1|set2) # 方法一（操作符）\n",
    "print(set1.union(set2)) # 方法二（内建函数）\n",
    "# (3)差集\n",
    "print(set1-set2) # 方法一（操作符）\n",
    "print(set1.difference(set2)) # 方法二（内建函数）\n",
    "print(set((i for i in set1 if i not in set2))) # 方法三（集合推导式）"
   ]
  },
  {
   "cell_type": "code",
   "execution_count": null,
   "metadata": {},
   "outputs": [],
   "source": []
  }
 ],
 "metadata": {
  "kernelspec": {
   "display_name": "Python 3",
   "language": "python",
   "name": "python3"
  },
  "language_info": {
   "codemirror_mode": {
    "name": "ipython",
    "version": 3
   },
   "file_extension": ".py",
   "mimetype": "text/x-python",
   "name": "python",
   "nbconvert_exporter": "python",
   "pygments_lexer": "ipython3",
   "version": "3.8.3"
  },
  "toc": {
   "base_numbering": 1,
   "nav_menu": {},
   "number_sections": true,
   "sideBar": true,
   "skip_h1_title": false,
   "title_cell": "Table of Contents",
   "title_sidebar": "Contents",
   "toc_cell": false,
   "toc_position": {},
   "toc_section_display": true,
   "toc_window_display": false
  }
 },
 "nbformat": 4,
 "nbformat_minor": 4
}
