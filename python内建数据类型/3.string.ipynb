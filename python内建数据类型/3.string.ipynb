{
 "cells": [
  {
   "cell_type": "markdown",
   "metadata": {},
   "source": [
    "字符串是python中的不可变数据类型，python3中使用utf-8编码方式。"
   ]
  },
  {
   "cell_type": "markdown",
   "metadata": {},
   "source": [
    "### 字符串的基本用法"
   ]
  },
  {
   "cell_type": "code",
   "execution_count": null,
   "metadata": {},
   "outputs": [],
   "source": [
    "## 1.创建字符串\n",
    "a = 'abc' # 单引号\n",
    "b = \"abc\" # 双引号\n",
    "c = '''abc\n",
    "def\n",
    "ghi\n",
    "''' # 三引号，可以书写多行，也可以用于注释\n",
    "print(a)\n",
    "print(b)\n",
    "print(c)"
   ]
  },
  {
   "cell_type": "markdown",
   "metadata": {},
   "source": [
    "注意，用单引号创建字符串时，字符串中的单引号要转义，双引号不用转义；用双引号创建字符串时，字符串中的双引号要转义，单引号不用转义。"
   ]
  },
  {
   "cell_type": "code",
   "execution_count": null,
   "metadata": {},
   "outputs": [],
   "source": [
    "## 2.访问子字符串\n",
    "## 与其他序列对象（列表、元组）相同，可以通过下标（或者切片）方式访问子字符串。\n",
    "s = \"abcde223\"\n",
    "a = s[3] #取第4个字符\n",
    "b = s[1:6] #取第2~第3个字符\n",
    "print(a,b)"
   ]
  },
  {
   "cell_type": "code",
   "execution_count": null,
   "metadata": {},
   "outputs": [],
   "source": [
    "## 3.字符串连接\n",
    "## 用‘+’\n",
    "s = 'abc' + '你好'\n",
    "print(s)"
   ]
  },
  {
   "cell_type": "code",
   "execution_count": null,
   "metadata": {},
   "outputs": [],
   "source": [
    "## 4.字符串转int或float\n",
    "s = '1.33'\n",
    "a = float(s)\n",
    "s = '122'\n",
    "b = int(s)\n",
    "print(type(a),type(b))"
   ]
  },
  {
   "cell_type": "markdown",
   "metadata": {},
   "source": [
    "注意，将string强转成float或int其实相当于eval()，若不符合规范地进行转换，则会报错。"
   ]
  },
  {
   "cell_type": "code",
   "execution_count": null,
   "metadata": {},
   "outputs": [],
   "source": [
    "## 5.字符串编码和解码\n",
    "## 字节数据类型（bytes）是字符串（按照某种编码方式）编码后的二进制数据（通常以16进制形式显示，并以\\x分隔）\n",
    "\n",
    "#（1）将字符串常量转换成字节类型：直接在前面加‘b’即可\n",
    "bs = b'abc'\n",
    "print(list(bs))\n",
    "#（2）字符串变量与字节变量的互相转换（即编码与解码）\n",
    "s = 'abc'\n",
    "bs = s.encode() # 编码\n",
    "s1 = bs.decode() # 解码\n",
    "print(s1)\n"
   ]
  },
  {
   "cell_type": "code",
   "execution_count": null,
   "metadata": {},
   "outputs": [],
   "source": [
    "## 6.字符串的格式化输出\n",
    "a = 1.3335\n",
    "sa = 'a = '\n",
    "s = ' %s %.03f ' %(sa,a) # a保留三位小数输出\n",
    "print(s)"
   ]
  },
  {
   "cell_type": "code",
   "execution_count": null,
   "metadata": {},
   "outputs": [],
   "source": [
    "## 7.在字符串中防转义\n",
    "## 即令\\不表示转义。在前面加r即可。一般正则表达式中常用。\n",
    "\n",
    "s1 = 'aa\\nbb'\n",
    "s2 = r'aa\\nbb'\n",
    "print(s1)\n",
    "print(s2)"
   ]
  },
  {
   "cell_type": "code",
   "execution_count": null,
   "metadata": {},
   "outputs": [],
   "source": [
    "## 8.常用的字符串函数\n",
    "#(1) join():将一个字符串插入到一个字符串列表中\n",
    "slst = ['1','g5','hah']\n",
    "print('--'.join(slst))\n",
    "# join常用来连接一个字符串列表中的所有字符串\n",
    "slst = ['你','在','黑暗中','全心全意地','期待着','光明','，','但','却','不知','光明','的','代价']\n",
    "print(''.join(slst))"
   ]
  },
  {
   "cell_type": "code",
   "execution_count": null,
   "metadata": {},
   "outputs": [],
   "source": [
    "# (2) split():字符串分割，该方法可以说是join的逆过程。其指定分隔符，将字符串分割，返回分割后的列表\n",
    "s = 'happy-new-year-my-dear'\n",
    "slst = s.split('-')\n",
    "print(slst)\n",
    "# 默认为所有的空字符，包括空格、换行(\\n)、制表符(\\t)等\n",
    "s = 'happy new year my dear'\n",
    "slst = s.split()\n",
    "print(slst)"
   ]
  },
  {
   "cell_type": "code",
   "execution_count": null,
   "metadata": {},
   "outputs": [],
   "source": [
    "# (3) strip():去除首尾字符\n",
    "s = '00abcde000'\n",
    "ss = s.strip('0')\n",
    "print(ss)\n",
    "# 默认去除首尾空格\n",
    "s = ' abcde     '\n",
    "print(s.strip())"
   ]
  },
  {
   "cell_type": "code",
   "execution_count": null,
   "metadata": {},
   "outputs": [],
   "source": [
    "# (4) replace():子串替换\n",
    "print('a got an apple , b got an apple ,everyone got an apple'.replace('apple','orange'))\n",
    "# 练习：用两种方法去除字符串中的空格\n",
    "s = '你 会不会 忽然 的 出现 ， 在 街角 的 咖啡店'\n",
    "# 方法一：replace()\n",
    "print(s.replace(' ',''))\n",
    "# 方法二：split()加join()\n",
    "slst = s.split()\n",
    "ss = ''.join(slst)\n",
    "print(ss)"
   ]
  },
  {
   "cell_type": "code",
   "execution_count": null,
   "metadata": {},
   "outputs": [],
   "source": [
    "# (5) count():统计字符串中某个字符串出现的次数\n",
    "print('吃葡萄不吐葡萄皮，不吃葡萄吐葡萄皮'.count('葡萄'))\n"
   ]
  },
  {
   "cell_type": "markdown",
   "metadata": {},
   "source": [
    "注意，列表、元组等可迭代对象也可以使用count()函数统计某个元素出现的次数"
   ]
  },
  {
   "cell_type": "code",
   "execution_count": null,
   "metadata": {},
   "outputs": [],
   "source": [
    "# (6) 字符串大小写判断及转换\n",
    "s = 'Karl Max is a well known philosopher'\n",
    "print(s.islower()) # 是否全小写\n",
    "print(s.isupper()) # 是否全小写\n",
    "print(s.lower()) # 转换为全小写\n",
    "print(s.upper()) # 转换为全大写"
   ]
  },
  {
   "cell_type": "code",
   "execution_count": null,
   "metadata": {},
   "outputs": [],
   "source": [
    "# (7) 判断字符串是否由字母/数字组成\n",
    "s = '345678f9g8fn8gkojfh9d7gft'\n",
    "print(s.isdigit()) # 是否由纯数字组成\n",
    "print(s.isalpha()) # 是否由纯字母组成\n",
    "print(s.isalnum()) # 是否由字母和数字组成"
   ]
  },
  {
   "cell_type": "code",
   "execution_count": null,
   "metadata": {},
   "outputs": [],
   "source": [
    "# (8) 其他常用函数：\n",
    "# center()、find()、index()、capitalize()、startwith()、endwith()、rsplite()"
   ]
  },
  {
   "cell_type": "markdown",
   "metadata": {},
   "source": [
    "### 测验"
   ]
  },
  {
   "cell_type": "code",
   "execution_count": null,
   "metadata": {},
   "outputs": [],
   "source": [
    "# (1) 统计字符串中每个字符出现的次数\n",
    "s = \"ggdecgretdddtgecrcrg\"\n",
    "# 方法一：collections.Counter\n",
    "from collections import Counter\n",
    "print(dict(Counter(s)))\n",
    "# 方法二：自定义函数\n",
    "def countstr(s):\n",
    "    set_s = set(s)\n",
    "    dct_s = {}.fromkeys(set_s,0)\n",
    "    for c in s:\n",
    "        dct_s[c]+=1\n",
    "\n",
    "    return dct_s\n",
    "print(countstr(s))\n",
    "# 方法三：使用count()函数与字典推导式\n",
    "print({c:s.count(c) for c in s})"
   ]
  },
  {
   "cell_type": "code",
   "execution_count": null,
   "metadata": {},
   "outputs": [],
   "source": [
    "# (2) 将字符串去重并排序\n",
    "# 使用字符串转集合、集合转列表、字符列表排序、字符列表转字符串\n",
    "s = 'ggdecgretdddtgecrcrg'\n",
    "set_s = set(s)\n",
    "lst = list(set_s)\n",
    "lst.sort(reverse=False)\n",
    "print(''.join(lst))"
   ]
  },
  {
   "cell_type": "markdown",
   "metadata": {},
   "source": [
    "注意，字符串列表也是可以排序的，但是若列表的元素既有字符串又有数字，则不能排序（使用sort的话会报错）"
   ]
  },
  {
   "cell_type": "code",
   "execution_count": null,
   "metadata": {},
   "outputs": [],
   "source": []
  }
 ],
 "metadata": {
  "kernelspec": {
   "display_name": "Python 3",
   "language": "python",
   "name": "python3"
  },
  "language_info": {
   "codemirror_mode": {
    "name": "ipython",
    "version": 3
   },
   "file_extension": ".py",
   "mimetype": "text/x-python",
   "name": "python",
   "nbconvert_exporter": "python",
   "pygments_lexer": "ipython3",
   "version": "3.8.3"
  },
  "toc": {
   "base_numbering": 1,
   "nav_menu": {},
   "number_sections": true,
   "sideBar": true,
   "skip_h1_title": false,
   "title_cell": "Table of Contents",
   "title_sidebar": "Contents",
   "toc_cell": false,
   "toc_position": {},
   "toc_section_display": true,
   "toc_window_display": false
  }
 },
 "nbformat": 4,
 "nbformat_minor": 2
}
