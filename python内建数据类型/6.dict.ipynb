{
 "cells": [
  {
   "cell_type": "markdown",
   "metadata": {},
   "source": [
    "字典是可变数据类型。  \n",
    "字典的键必须唯一，值不必唯一。  \n",
    "字典的键不可变，比如：键可以是数值、字符串或元组，但不可以是列表等。  \n",
    "实际上，列表等其他序列对象也可以看成是字典，其下标即为键，相应的元素即为值。  "
   ]
  },
  {
   "cell_type": "markdown",
   "metadata": {},
   "source": [
    "### 字典的基本用法"
   ]
  },
  {
   "cell_type": "code",
   "execution_count": null,
   "metadata": {},
   "outputs": [],
   "source": [
    "## 1.创建新字典\n",
    "dct = {'key1':'value1','key2':'value2'} #方式一，直接定义\n",
    "dct = dict(name = 'ls',age = '23') #方式二，注意，这种方式下，键不用字符串，一般当值比较复杂时，使用这种定义方式比较清晰\n",
    "dct = dict([['key1','value1'],['key2','value2']]) #方式三，使用列表嵌套列表\n",
    "dct = dict((('key1','value1'),('key2','value2'))) #方式四，使用元组嵌套元组，当然，也可以使用列表嵌套元组\n",
    "dct = {}.fromkeys(('name','age','key3'),2) #方式五，使用fromkeys函数，该语句将字典中所有键的值都初始化为给定值"
   ]
  },
  {
   "cell_type": "code",
   "execution_count": null,
   "metadata": {},
   "outputs": [],
   "source": [
    "## 2.访问字典中的item\n",
    "dct = {'key1':'value1' , 'key2':'value2'}\n",
    "print(dct['key1']) #[]方法访问元素\n",
    "print(dct.get('key1')) #get方法访问元素，注意，若字典中没有相应的键，用[]方法访问元素会报错，而get方法不会报错\n",
    "# get方法还可以指定默认值，若字典中没有相应的键，则返回默认值\n",
    "print(dct.get('key3','default'))"
   ]
  },
  {
   "cell_type": "code",
   "execution_count": null,
   "metadata": {},
   "outputs": [],
   "source": [
    "## 3.获取字典中的所有键值\n",
    "dic = dict([['name','ls'],['age',28],['sex','man']])\n",
    "print(dic.keys()) #获取字典的所有键，返回为dict_keys类型的对象，可用 list() 转成list\n",
    "print(dct.values()) #获取字典的所有值，返回为dict_values类型的对象，可用 list() 转成list\n",
    "print(dct.items()) #获取字典的所有键值对，返回为dict_items类型的对象，可用 list() 转成list\n",
    "\n",
    "# 循环遍历字典中的键值\n",
    "for k,v in dct.items():\n",
    "    print(k,v)"
   ]
  },
  {
   "cell_type": "code",
   "execution_count": null,
   "metadata": {},
   "outputs": [],
   "source": [
    "## 4.字典的增删改\n",
    "# (1) 增或改：直接赋值\n",
    "dct = {'key1':'value1' , 'key2':'value2'}\n",
    "dct['newkey'] = 'newvalue'\n",
    "print(dct)\n",
    "dct['key2'] = 'value22'\n",
    "print(dct)\n",
    "# (2) 删：用del或pop()\n",
    "dct = {'key1':'value1' , 'key2':'value2' , 'key3':'value3'}\n",
    "del dct['key2']\n",
    "print(dct)\n",
    "dct.pop('key3')\n",
    "print(dct)"
   ]
  },
  {
   "cell_type": "code",
   "execution_count": null,
   "metadata": {},
   "outputs": [],
   "source": [
    "## 5.字典的更新（更新原字典的某些键值对，并加入新进的键值对）：update()\n",
    "dct1 = {'key1':'value1' , 'key2':'value2'}\n",
    "dct2 = {'key2':'value22' , 'key3':'value3'}\n",
    "dct1.update(dct2)\n",
    "print(dct1)"
   ]
  },
  {
   "cell_type": "code",
   "execution_count": null,
   "metadata": {},
   "outputs": [],
   "source": [
    "## 6.字典合并\n",
    "dct1 = {'a':1 , 'b':2 , 'c':3}\n",
    "dct2 = {'aa':11 , 'bb':22 , 'cc':33}\n",
    "dct3 = dict(dct1,**dct2) # 方法一\n",
    "print(dct3)\n",
    "dct4 = dict(list(dct1.items())+list(dct2.items())) #方法二\n",
    "print(dct4)"
   ]
  },
  {
   "cell_type": "code",
   "execution_count": null,
   "metadata": {},
   "outputs": [],
   "source": [
    "## 7.字典与字符串相互转换：利用json库\n",
    "import json\n",
    "dct = {'name':'ls','age':29}\n",
    "s = json.dumps(dct)\n",
    "print(type(s),s)\n",
    "dct_new = json.loads(s)\n",
    "print(type(dct_new),dct_new)"
   ]
  },
  {
   "cell_type": "markdown",
   "metadata": {},
   "source": [
    "### 测验"
   ]
  },
  {
   "cell_type": "code",
   "execution_count": null,
   "metadata": {},
   "outputs": [],
   "source": [
    "# (1) 将字典的项倒序\n",
    "dct = {'a':1,\"b\":2,'c':3}\n",
    "dct_new = dict(list(dct.items())[::-1])\n",
    "print(dct_new)"
   ]
  },
  {
   "cell_type": "code",
   "execution_count": null,
   "metadata": {},
   "outputs": [],
   "source": []
  }
 ],
 "metadata": {
  "kernelspec": {
   "display_name": "Python 3",
   "language": "python",
   "name": "python3"
  },
  "language_info": {
   "codemirror_mode": {
    "name": "ipython",
    "version": 3
   },
   "file_extension": ".py",
   "mimetype": "text/x-python",
   "name": "python",
   "nbconvert_exporter": "python",
   "pygments_lexer": "ipython3",
   "version": "3.8.3"
  },
  "toc": {
   "base_numbering": 1,
   "nav_menu": {},
   "number_sections": true,
   "sideBar": true,
   "skip_h1_title": false,
   "title_cell": "Table of Contents",
   "title_sidebar": "Contents",
   "toc_cell": false,
   "toc_position": {},
   "toc_section_display": true,
   "toc_window_display": false
  }
 },
 "nbformat": 4,
 "nbformat_minor": 4
}
