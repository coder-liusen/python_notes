{
 "cells": [
  {
   "cell_type": "markdown",
   "metadata": {},
   "source": [
    "list是python中的可变对象。  \n",
    "list属于可迭代对象，可迭代对象包含多个元素，并可以使用索引和切片访问其元素。python中的字符串、元组、字典也属于可迭代对象。    \n",
    "list中的元素类型可以不同，并且可以是任意类型。  \n",
    "list提供相应的方法对元素进行增、删、改的操作。  "
   ]
  },
  {
   "cell_type": "code",
   "execution_count": null,
   "metadata": {},
   "outputs": [],
   "source": [
    "## 1.创建列表\n",
    "lst = [1,2,3,4] # 直接创建\n",
    "lst = list(range(1,10)) # 利用 range() 函数创建\n",
    "# 注意，list()函数可以将任意的python内置可迭代对象或者迭代器变成列表，这其实就是“工厂函数”。\n",
    "# python中所有的形式上的“类型转换”都是工厂函数。\n",
    "tpl = (1,2,3)\n",
    "print(list(tpl))\n",
    "dct = {'key1':'value1','key2':'value2'}\n",
    "print(list(dct))\n",
    "print(list(range(3,10)))"
   ]
  },
  {
   "cell_type": "code",
   "execution_count": null,
   "metadata": {},
   "outputs": [],
   "source": [
    "## 2.列表的性质\n",
    "# 列表中的元素可以是不同类型，并且可以重复\n",
    "lst = ['ab',10,3.5，10]\n",
    "# 列表还可以嵌套列表\n",
    "lst = ['abc',2.5,[3,4,5]]\n",
    "# 列表中元素类型一致时，可以当作一维数组使用，也可以通过嵌套列表用作二维数组\n",
    "lst = [1,2,3,4]\n",
    "lst = [[1,2,3],[4,5,6]] #二维数组"
   ]
  },
  {
   "cell_type": "code",
   "execution_count": null,
   "metadata": {},
   "outputs": [],
   "source": [
    "## 3.列表中元素的增删改\n",
    "lst = [1,2,3,'haha',4]\n",
    "# (1)增\n",
    "lst.append(10) # 在列表末尾添加元素\n",
    "print(lst)\n",
    "lst.insert(2,'mid') # 在列表的指定位置插入元素\n",
    "print(lst)\n",
    "# (2) 删\n",
    "lst.remove(2) #指定元素，删除该元素，如有重复元素，则只删除最前面的一个\n",
    "print(lst)\n",
    "lst.pop() #删除末尾元素\n",
    "print(lst)\n",
    "# (3) 改\n",
    "# 直接对相应元素赋值即可\n",
    "lst[2] = 30\n",
    "print(lst)"
   ]
  },
  {
   "cell_type": "code",
   "execution_count": null,
   "metadata": {},
   "outputs": [],
   "source": [
    "## 4.列表合并\n",
    "# 方法一：extend()\n",
    "lst1 = [1,2,3]\n",
    "lst2 = ['a','b','c','d']\n",
    "lst1.extend(lst2)\n",
    "print(lst1)\n",
    "# 方法二：用‘+’，类似于字符串的合并\n",
    "lst1 = [1,2,3]\n",
    "lst2 = ['a','b','c','d']\n",
    "print(lst1+lst2)"
   ]
  },
  {
   "cell_type": "code",
   "execution_count": null,
   "metadata": {},
   "outputs": [],
   "source": [
    "## 5.列表元素重复输出\n",
    "lst = [1,2,3]\n",
    "print(lst*2)\n",
    "# 字符串也可以通过这种方法重复输出\n",
    "s = 'abc'\n",
    "print(s*3)"
   ]
  },
  {
   "cell_type": "markdown",
   "metadata": {},
   "source": [
    "注意，numpy的数组与数值相乘，表示该数组每个元素与该数值相乘，而不是重复输出。"
   ]
  },
  {
   "cell_type": "code",
   "execution_count": null,
   "metadata": {},
   "outputs": [],
   "source": [
    "## 6.引用列表中的元素：下标或切片\n",
    "lst = [1,2,3,4,5,6]\n",
    "print(lst[1])\n",
    "print(lst[2:4])\n",
    "print(lst[3:])\n",
    "print(lst[:3])\n",
    "# 切片的详细用法，请参考笔记“可迭代对象的切片”"
   ]
  },
  {
   "cell_type": "code",
   "execution_count": null,
   "metadata": {},
   "outputs": [],
   "source": [
    "## 7.判断元素是否在列表中：in\n",
    "lst = ['a',1,2,3,'c']\n",
    "print(2 in lst)\n",
    "print('k' in lst)"
   ]
  },
  {
   "cell_type": "code",
   "execution_count": null,
   "metadata": {},
   "outputs": [],
   "source": [
    "## 8.列表推导式\n",
    "# 列表推导式用于从一个已有的可迭代对象中生成新的序列。\n",
    "#列表推导式的形式为：在一个中括号里，首先是一个表达式，后面接一个或多个for语句（for语句指定了表达式中的变量所需遍历的可迭代对象），\n",
    "#for语句中可以包含if语句。\n",
    "\n",
    "print([i*i for i in range(1,10)]) # 1-10之间的数的平方\n",
    "print([i for i in range(1,20) if i%3==0]) # 1-20之间能被3整除的数\n",
    "\n",
    "# 两个for：\n",
    "lst = [x*y for x in range(1,5) if x > 2 for y in range(1,4) if y < 3]\n",
    "print(lst)\n",
    "# 上式等价于：\n",
    "lst = []\n",
    "for x in range(1,5):\n",
    "    if (x>2):\n",
    "        for y in range(1,4):\n",
    "            if (y<3):\n",
    "                lst.append(x*y)\n",
    "print(lst)\n",
    "\n",
    "# 列表推导式的应用举例：\n",
    "# 将列表[[1,2],[3,4],[5,6]]展开成[1,2,3,4,5,6]\n",
    "lst = [[1,2],[3,4],[5,6]]\n",
    "print([j for i in lst for j in i])\n",
    "# 此问题也可以用numpy中的flatten()实现\n",
    "import numpy as np\n",
    "lst1 = np.array(lst).flatten().tolist()\n",
    "print(lst1)"
   ]
  },
  {
   "cell_type": "markdown",
   "metadata": {},
   "source": [
    "注意，除了列表推导式以外，字典和集合也可以使用推导式"
   ]
  },
  {
   "cell_type": "code",
   "execution_count": null,
   "metadata": {},
   "outputs": [],
   "source": [
    "## 9.列表常用方法\n",
    "#(1) sort()：排序\n",
    "lst = [3,5,2,4,1]\n",
    "lst.sort()\n",
    "print(lst)\n",
    "# (2) copy()：复制\n",
    "lst = [1,2,3,4,5]\n",
    "print(lst.copy())\n",
    "# (3) reverse()：倒序\n",
    "lst = [1,2,3,4,5]\n",
    "lst.reverse()\n",
    "print(lst)\n",
    "# (4) count()：统计某个元素在列表中出现的个数\n",
    "lst = ['a',2,2,'b','c','b',3,15]\n",
    "print(lst.count('b'))"
   ]
  },
  {
   "cell_type": "code",
   "execution_count": null,
   "metadata": {},
   "outputs": [],
   "source": []
  }
 ],
 "metadata": {
  "kernelspec": {
   "display_name": "Python 3",
   "language": "python",
   "name": "python3"
  },
  "language_info": {
   "codemirror_mode": {
    "name": "ipython",
    "version": 3
   },
   "file_extension": ".py",
   "mimetype": "text/x-python",
   "name": "python",
   "nbconvert_exporter": "python",
   "pygments_lexer": "ipython3",
   "version": "3.8.3"
  },
  "toc": {
   "base_numbering": 1,
   "nav_menu": {},
   "number_sections": true,
   "sideBar": true,
   "skip_h1_title": false,
   "title_cell": "Table of Contents",
   "title_sidebar": "Contents",
   "toc_cell": false,
   "toc_position": {},
   "toc_section_display": true,
   "toc_window_display": false
  }
 },
 "nbformat": 4,
 "nbformat_minor": 2
}
